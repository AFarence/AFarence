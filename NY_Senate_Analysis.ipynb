{
 "cells": [
  {
   "cell_type": "markdown",
   "metadata": {},
   "source": [
    "# NY Senate Analysis\n",
    "\n",
    "### This notebook is divided into several sections. The first takes the most recent CSV files produced by the Senate Scraper and concatenates them into one cumulative dataframe and csv file. \n",
    "\n",
    "### The second analyzes for the last legislative action (lla) temporal differences between session.\n",
    "\n",
    "### The third analyzes veto data - how many vetoes and if the senate vote count could override a veto"
   ]
  },
  {
   "cell_type": "code",
   "execution_count": 1,
   "metadata": {},
   "outputs": [],
   "source": [
    "import pandas as pd"
   ]
  },
  {
   "cell_type": "code",
   "execution_count": 2,
   "metadata": {},
   "outputs": [],
   "source": [
    "df_2011 = pd.read_csv(\"2011_legis_data_4.12.2021.csv\", sep=\"|\")\n",
    "df_2013 = pd.read_csv(\"2013_legis_data_4.12.2021.csv\", sep=\"|\")\n",
    "df_2015 = pd.read_csv(\"2015_legis_data_4.12.2021.csv\", sep=\"|\")\n",
    "df_2017 = pd.read_csv(\"2017_legis_data_4.12.2021.csv\", sep=\"|\")\n",
    "df_2019 = pd.read_csv(\"2019_legis_data_4.12.2021.csv\", sep=\"|\")"
   ]
  },
  {
   "cell_type": "code",
   "execution_count": 3,
   "metadata": {},
   "outputs": [],
   "source": [
    "frames = [df_2011,df_2013,df_2015,df_2017,df_2019]\n",
    "df = pd.concat(frames)"
   ]
  },
  {
   "cell_type": "markdown",
   "metadata": {},
   "source": [
    "### This section spits out totals for signed and vetoed values for each 2-year session.\n",
    "#### I did this to compare my numbers with the NYPIRG. I had a scare when I compared a different section of my data to theirs -- it was way off. But these are much closer, usually within ten bills or so. So my working theory is for that other data set, despite what seemed to be the same thing, was actually different."
   ]
  },
  {
   "cell_type": "code",
   "execution_count": 4,
   "metadata": {},
   "outputs": [
    {
     "data": {
      "text/plain": [
       "(42300, 20)"
      ]
     },
     "execution_count": 4,
     "metadata": {},
     "output_type": "execute_result"
    }
   ],
   "source": [
    "df.shape"
   ]
  },
  {
   "cell_type": "code",
   "execution_count": 5,
   "metadata": {},
   "outputs": [
    {
     "data": {
      "text/plain": [
       "(1111, 20)"
      ]
     },
     "execution_count": 5,
     "metadata": {},
     "output_type": "execute_result"
    }
   ],
   "source": [
    "### 2011-2012 legislative session signed_by_gov \"true\" value counts ### NYPIRG 1,115\n",
    "df_2011[df_2011.signed_by_gov == True].shape"
   ]
  },
  {
   "cell_type": "code",
   "execution_count": 6,
   "metadata": {},
   "outputs": [
    {
     "data": {
      "text/plain": [
       "(126, 20)"
      ]
     },
     "execution_count": 6,
     "metadata": {},
     "output_type": "execute_result"
    }
   ],
   "source": [
    "### 2011-2012 legislative session vetoed_by_gov \"true\" value counts ### NYPIRG 129\n",
    "df_2011[df_2011.vetoed_by_gov == True].shape"
   ]
  },
  {
   "cell_type": "code",
   "execution_count": 7,
   "metadata": {},
   "outputs": [
    {
     "data": {
      "text/plain": [
       "(1103, 20)"
      ]
     },
     "execution_count": 7,
     "metadata": {},
     "output_type": "execute_result"
    }
   ],
   "source": [
    "### 2013-2014 legislative session signed_by_gov \"true\" value counts ### NYPIRG 1,110\n",
    "df_2013[df_2013.signed_by_gov == True].shape"
   ]
  },
  {
   "cell_type": "code",
   "execution_count": 8,
   "metadata": {},
   "outputs": [
    {
     "data": {
      "text/plain": [
       "(184, 20)"
      ]
     },
     "execution_count": 8,
     "metadata": {},
     "output_type": "execute_result"
    }
   ],
   "source": [
    "### 2013-2014 legislative session vetoed_by_gov \"true\" value counts ### NYPIRG 196\n",
    "df_2013[df_2013.vetoed_by_gov == True].shape"
   ]
  },
  {
   "cell_type": "code",
   "execution_count": 9,
   "metadata": {},
   "outputs": [
    {
     "data": {
      "text/plain": [
       "(1096, 20)"
      ]
     },
     "execution_count": 9,
     "metadata": {},
     "output_type": "execute_result"
    }
   ],
   "source": [
    "### 2015-2016 legislative session signed_by_gov \"true\" value counts ### NYPIRG 1,108\n",
    "df_2015[df_2015.signed_by_gov == True].shape"
   ]
  },
  {
   "cell_type": "code",
   "execution_count": 10,
   "metadata": {},
   "outputs": [
    {
     "data": {
      "text/plain": [
       "(217, 20)"
      ]
     },
     "execution_count": 10,
     "metadata": {},
     "output_type": "execute_result"
    }
   ],
   "source": [
    "### 2015-2016 legislative session vetoed_by_gov \"true\" value counts ### NYPIRG 232\n",
    "df_2015[df_2015.vetoed_by_gov == True].shape"
   ]
  },
  {
   "cell_type": "code",
   "execution_count": 11,
   "metadata": {},
   "outputs": [
    {
     "data": {
      "text/plain": [
       "(1008, 20)"
      ]
     },
     "execution_count": 11,
     "metadata": {},
     "output_type": "execute_result"
    }
   ],
   "source": [
    "### 2017-2018 legislative session signed_by_gov \"true\" value counts ### NYPIRG 1,027\n",
    "df_2017[df_2017.signed_by_gov == True].shape"
   ]
  },
  {
   "cell_type": "code",
   "execution_count": 12,
   "metadata": {},
   "outputs": [
    {
     "data": {
      "text/plain": [
       "(215, 20)"
      ]
     },
     "execution_count": 12,
     "metadata": {},
     "output_type": "execute_result"
    }
   ],
   "source": [
    "### 2017-2018 legislative session vetoed_by_gov \"true\" value counts ### NYPIRG 223\n",
    "df_2017[df_2017.vetoed_by_gov == True].shape"
   ]
  },
  {
   "cell_type": "code",
   "execution_count": 13,
   "metadata": {},
   "outputs": [
    {
     "data": {
      "text/plain": [
       "(42300, 20)"
      ]
     },
     "execution_count": 13,
     "metadata": {},
     "output_type": "execute_result"
    }
   ],
   "source": [
    "df.shape"
   ]
  },
  {
   "cell_type": "code",
   "execution_count": 14,
   "metadata": {},
   "outputs": [
    {
     "data": {
      "text/plain": [
       "Index(['bill_number', 'session', 'url', 'bill_title', 'spon_sen_name',\n",
       "       'dist_name', 'aye_vote', 'nay_vote', 'dtg', 'dtg_date', 'lla_needed?',\n",
       "       'lla_date', 'lla_action', 'signed_by_gov', 'signed_date',\n",
       "       'vetoed_by_gov', 'vetoed_date', 'sponser_memo', 'sponser_memo2',\n",
       "       'bill_text'],\n",
       "      dtype='object')"
      ]
     },
     "execution_count": 14,
     "metadata": {},
     "output_type": "execute_result"
    }
   ],
   "source": [
    "df.columns"
   ]
  },
  {
   "cell_type": "code",
   "execution_count": 15,
   "metadata": {},
   "outputs": [
    {
     "data": {
      "text/plain": [
       "FALSE                                                          35892\n",
       "returned to senate                                              3375\n",
       "returned to assembly                                            2943\n",
       "delivered to assembly                                             15\n",
       "<class 'Exception'>                                                8\n",
       "referred to ways and means                                         5\n",
       "referred to codes                                                  4\n",
       "referred to rules                                                  4\n",
       "amend (t) and recommit to finance                                  3\n",
       "amend and recommit to finance                                      2\n",
       "delivered to senate                                                2\n",
       "substituted by a775                                                1\n",
       "substituted by a3675b                                              1\n",
       "substituted by a3009c                                              1\n",
       "print number 6353e                                                 1\n",
       "referred to finance                                                1\n",
       "substituted by a2371a                                              1\n",
       "ordered to third reading cal.2                                     1\n",
       "substituted by a7949b                                              1\n",
       "referred to elections                                              1\n",
       "substituted by a7511                                               1\n",
       "advanced to third reading                                          1\n",
       "substituted by a8511                                               1\n",
       "substituted by a851                                                1\n",
       "print number 6358d                                                 1\n",
       "substituted by a9057d                                              1\n",
       "substituted by a9050d                                              1\n",
       "substituted by a10076                                              1\n",
       "substituted by a8508                                               1\n",
       "substituted by a5698                                               1\n",
       "referred to election law                                           1\n",
       "substituted by a8550e                                              1\n",
       "substituted by a576                                                1\n",
       "substituted by a6856a                                              1\n",
       "substituted by a9054d                                              1\n",
       "print number 6356d                                                 1\n",
       "substituted by a9059d                                              1\n",
       "referred to cities                                                 1\n",
       "substituted by a9056d                                              1\n",
       "substituted by a776                                                1\n",
       "referred to housing, construction and community development        1\n",
       "substituted by a8555d                                              1\n",
       "substituted by a9053e                                              1\n",
       "substituted by a774                                                1\n",
       "substituted by a9407                                               1\n",
       "substituted by a3004d                                              1\n",
       "substituted by a9454                                               1\n",
       "print number 6357d                                                 1\n",
       "print number 6351a                                                 1\n",
       "ordered to third reading cal.481                                   1\n",
       "print number 6354e                                                 1\n",
       "ordered to third reading cal.478                                   1\n",
       "referred to health                                                 1\n",
       "substituted by a4004d                                              1\n",
       "substituted by a779                                                1\n",
       "print number 6359d                                                 1\n",
       "substituted by a3000d                                              1\n",
       "ordered to third reading cal.294                                   1\n",
       "Name: lla_action, dtype: int64"
      ]
     },
     "execution_count": 15,
     "metadata": {},
     "output_type": "execute_result"
    }
   ],
   "source": [
    "df.lla_action.value_counts()"
   ]
  },
  {
   "cell_type": "code",
   "execution_count": 16,
   "metadata": {},
   "outputs": [],
   "source": [
    "df.to_csv(\"all_legis_data_4.12.2021.csv\", sep=\"|\")"
   ]
  },
  {
   "cell_type": "markdown",
   "metadata": {},
   "source": [
    "## Last Legislative Action (lla) temporal analysis"
   ]
  },
  {
   "cell_type": "markdown",
   "metadata": {},
   "source": [
    "Set up a dataframe with only bills that have been delivered to the governor"
   ]
  },
  {
   "cell_type": "code",
   "execution_count": 17,
   "metadata": {},
   "outputs": [
    {
     "data": {
      "text/plain": [
       "False    35892\n",
       "True      6408\n",
       "Name: dtg, dtype: int64"
      ]
     },
     "execution_count": 17,
     "metadata": {},
     "output_type": "execute_result"
    }
   ],
   "source": [
    "df.dtg.value_counts()"
   ]
  },
  {
   "cell_type": "code",
   "execution_count": 18,
   "metadata": {},
   "outputs": [],
   "source": [
    "df_dtg = df[df.dtg == True]"
   ]
  },
  {
   "cell_type": "code",
   "execution_count": 19,
   "metadata": {},
   "outputs": [
    {
     "data": {
      "text/plain": [
       "True    6408\n",
       "Name: dtg, dtype: int64"
      ]
     },
     "execution_count": 19,
     "metadata": {},
     "output_type": "execute_result"
    }
   ],
   "source": [
    "df_dtg.dtg.value_counts()"
   ]
  },
  {
   "cell_type": "code",
   "execution_count": 20,
   "metadata": {},
   "outputs": [
    {
     "data": {
      "text/plain": [
       "Index(['bill_number', 'session', 'url', 'bill_title', 'spon_sen_name',\n",
       "       'dist_name', 'aye_vote', 'nay_vote', 'dtg', 'dtg_date', 'lla_needed?',\n",
       "       'lla_date', 'lla_action', 'signed_by_gov', 'signed_date',\n",
       "       'vetoed_by_gov', 'vetoed_date', 'sponser_memo', 'sponser_memo2',\n",
       "       'bill_text'],\n",
       "      dtype='object')"
      ]
     },
     "execution_count": 20,
     "metadata": {},
     "output_type": "execute_result"
    }
   ],
   "source": [
    "df_dtg.columns"
   ]
  },
  {
   "cell_type": "markdown",
   "metadata": {},
   "source": [
    "Remove the one error string"
   ]
  },
  {
   "cell_type": "code",
   "execution_count": 21,
   "metadata": {},
   "outputs": [],
   "source": [
    "df_dtg = df_dtg[~df_dtg.lla_date.str.contains('<class \\'Exception\\'>')]"
   ]
  },
  {
   "cell_type": "markdown",
   "metadata": {},
   "source": [
    "Convert to datetime"
   ]
  },
  {
   "cell_type": "code",
   "execution_count": 22,
   "metadata": {},
   "outputs": [],
   "source": [
    "df_dtg['lla_date'] = pd.to_datetime(df_dtg['lla_date'])\n",
    "df_dtg['dtg_date'] = pd.to_datetime(df_dtg['dtg_date'])"
   ]
  },
  {
   "cell_type": "markdown",
   "metadata": {},
   "source": [
    "Create the 'time_to_dtg' column"
   ]
  },
  {
   "cell_type": "code",
   "execution_count": 23,
   "metadata": {},
   "outputs": [],
   "source": [
    "df_dtg['time_to_dtg'] = df_dtg['dtg_date'] - df_dtg['lla_date']"
   ]
  },
  {
   "cell_type": "code",
   "execution_count": 24,
   "metadata": {},
   "outputs": [
    {
     "data": {
      "text/plain": [
       "29 days     128\n",
       "46 days     116\n",
       "169 days    110\n",
       "1 days       93\n",
       "181 days     92\n",
       "           ... \n",
       "229 days      1\n",
       "253 days      1\n",
       "273 days      1\n",
       "252 days      1\n",
       "265 days      1\n",
       "Name: time_to_dtg, Length: 244, dtype: int64"
      ]
     },
     "execution_count": 24,
     "metadata": {},
     "output_type": "execute_result"
    }
   ],
   "source": [
    "df_dtg.time_to_dtg.value_counts()"
   ]
  },
  {
   "cell_type": "markdown",
   "metadata": {},
   "source": [
    "# Separate them by session year\n",
    "\n",
    "### 2011, 2013, 2015, 2017, 2019\n",
    "\n",
    "Each session runs two years in length"
   ]
  },
  {
   "cell_type": "code",
   "execution_count": 25,
   "metadata": {},
   "outputs": [
    {
     "data": {
      "text/plain": [
       "2019    1343\n",
       "2015    1312\n",
       "2013    1289\n",
       "2011    1234\n",
       "2017    1222\n",
       "Name: session, dtype: int64"
      ]
     },
     "execution_count": 25,
     "metadata": {},
     "output_type": "execute_result"
    }
   ],
   "source": [
    "df_dtg.session.value_counts()"
   ]
  },
  {
   "cell_type": "markdown",
   "metadata": {},
   "source": [
    "## 2011 Data\n",
    "#### Average time to dtg: 45 days"
   ]
  },
  {
   "cell_type": "code",
   "execution_count": 26,
   "metadata": {},
   "outputs": [
    {
     "data": {
      "text/plain": [
       "Timedelta('45 days 12:29:10.405186385')"
      ]
     },
     "execution_count": 26,
     "metadata": {},
     "output_type": "execute_result"
    }
   ],
   "source": [
    "df_dtg[df_dtg.session == 2011].time_to_dtg.mean()"
   ]
  },
  {
   "cell_type": "markdown",
   "metadata": {},
   "source": [
    "## 2013 Data\n",
    "#### Average time to dtg: 81 days"
   ]
  },
  {
   "cell_type": "code",
   "execution_count": 27,
   "metadata": {},
   "outputs": [
    {
     "data": {
      "text/plain": [
       "Timedelta('81 days 23:22:01.024049651')"
      ]
     },
     "execution_count": 27,
     "metadata": {},
     "output_type": "execute_result"
    }
   ],
   "source": [
    "df_dtg[df_dtg.session == 2013].time_to_dtg.mean()"
   ]
  },
  {
   "cell_type": "markdown",
   "metadata": {},
   "source": [
    "## 2015 Data\n",
    "#### Average time to dtg: 93 days"
   ]
  },
  {
   "cell_type": "code",
   "execution_count": 28,
   "metadata": {},
   "outputs": [
    {
     "data": {
      "text/plain": [
       "Timedelta('93 days 04:23:24.878048780')"
      ]
     },
     "execution_count": 28,
     "metadata": {},
     "output_type": "execute_result"
    }
   ],
   "source": [
    "df_dtg[df_dtg.session == 2015].time_to_dtg.mean()"
   ]
  },
  {
   "cell_type": "markdown",
   "metadata": {},
   "source": [
    "## 2017 Data\n",
    "#### Average time to dtg: 101 days"
   ]
  },
  {
   "cell_type": "code",
   "execution_count": 29,
   "metadata": {},
   "outputs": [
    {
     "data": {
      "text/plain": [
       "Timedelta('101 days 11:22:17.479541735')"
      ]
     },
     "execution_count": 29,
     "metadata": {},
     "output_type": "execute_result"
    }
   ],
   "source": [
    "df_dtg[df_dtg.session == 2017].time_to_dtg.mean()"
   ]
  },
  {
   "cell_type": "markdown",
   "metadata": {},
   "source": [
    "## 2019 Data\n",
    "#### Average time to dtg: 114 days"
   ]
  },
  {
   "cell_type": "code",
   "execution_count": 30,
   "metadata": {},
   "outputs": [
    {
     "data": {
      "text/plain": [
       "Timedelta('114 days 10:32:36.813104988')"
      ]
     },
     "execution_count": 30,
     "metadata": {},
     "output_type": "execute_result"
    }
   ],
   "source": [
    "df_dtg[df_dtg.session == 2019].time_to_dtg.mean()"
   ]
  },
  {
   "cell_type": "markdown",
   "metadata": {},
   "source": [
    "## Breakdown so far:\n",
    "\n",
    "###### 2011: 45 days\n",
    "###### 2013: 81 days\n",
    "###### 2015: 93 days\n",
    "###### 2017: 101 days\n",
    "###### 2019: 114 days"
   ]
  },
  {
   "cell_type": "code",
   "execution_count": 31,
   "metadata": {},
   "outputs": [
    {
     "data": {
      "text/plain": [
       "(6400, 21)"
      ]
     },
     "execution_count": 31,
     "metadata": {},
     "output_type": "execute_result"
    }
   ],
   "source": [
    "df_dtg.shape"
   ]
  },
  {
   "cell_type": "code",
   "execution_count": 32,
   "metadata": {},
   "outputs": [
    {
     "data": {
      "text/plain": [
       "Timedelta('87 days 18:41:37.500000')"
      ]
     },
     "execution_count": 32,
     "metadata": {},
     "output_type": "execute_result"
    }
   ],
   "source": [
    "df_dtg.time_to_dtg.mean()"
   ]
  },
  {
   "cell_type": "markdown",
   "metadata": {},
   "source": [
    "## Other stats, such as min and max value"
   ]
  },
  {
   "cell_type": "code",
   "execution_count": 33,
   "metadata": {},
   "outputs": [
    {
     "data": {
      "text/plain": [
       "5101   303 days\n",
       "2494   293 days\n",
       "6923   286 days\n",
       "1809   285 days\n",
       "6651   282 days\n",
       "         ...   \n",
       "6880     0 days\n",
       "7077     0 days\n",
       "6238     0 days\n",
       "1983     0 days\n",
       "6236     0 days\n",
       "Name: time_to_dtg, Length: 6400, dtype: timedelta64[ns]"
      ]
     },
     "execution_count": 33,
     "metadata": {},
     "output_type": "execute_result"
    }
   ],
   "source": [
    "df_dtg.time_to_dtg.sort_values(ascending=False)"
   ]
  },
  {
   "cell_type": "code",
   "execution_count": 34,
   "metadata": {},
   "outputs": [
    {
     "data": {
      "text/html": [
       "<div>\n",
       "<style scoped>\n",
       "    .dataframe tbody tr th:only-of-type {\n",
       "        vertical-align: middle;\n",
       "    }\n",
       "\n",
       "    .dataframe tbody tr th {\n",
       "        vertical-align: top;\n",
       "    }\n",
       "\n",
       "    .dataframe thead th {\n",
       "        text-align: right;\n",
       "    }\n",
       "</style>\n",
       "<table border=\"1\" class=\"dataframe\">\n",
       "  <thead>\n",
       "    <tr style=\"text-align: right;\">\n",
       "      <th></th>\n",
       "      <th>bill_number</th>\n",
       "      <th>session</th>\n",
       "      <th>url</th>\n",
       "      <th>bill_title</th>\n",
       "      <th>spon_sen_name</th>\n",
       "      <th>dist_name</th>\n",
       "      <th>aye_vote</th>\n",
       "      <th>nay_vote</th>\n",
       "      <th>dtg</th>\n",
       "      <th>dtg_date</th>\n",
       "      <th>...</th>\n",
       "      <th>lla_date</th>\n",
       "      <th>lla_action</th>\n",
       "      <th>signed_by_gov</th>\n",
       "      <th>signed_date</th>\n",
       "      <th>vetoed_by_gov</th>\n",
       "      <th>vetoed_date</th>\n",
       "      <th>sponser_memo</th>\n",
       "      <th>sponser_memo2</th>\n",
       "      <th>bill_text</th>\n",
       "      <th>time_to_dtg</th>\n",
       "    </tr>\n",
       "  </thead>\n",
       "  <tbody>\n",
       "    <tr>\n",
       "      <th>6923</th>\n",
       "      <td>senate        Bill S6944</td>\n",
       "      <td>2011</td>\n",
       "      <td>https://www.nysenate.gov/legislation/bills/201...</td>\n",
       "      <td>Relates to the definition of certain covered p...</td>\n",
       "      <td>Martin J. Golden</td>\n",
       "      <td>(R, C, IP) 0 Senate District</td>\n",
       "      <td>60</td>\n",
       "      <td>0</td>\n",
       "      <td>True</td>\n",
       "      <td>2012-06-28</td>\n",
       "      <td>...</td>\n",
       "      <td>2012-06-20</td>\n",
       "      <td>returned to assembly</td>\n",
       "      <td>True</td>\n",
       "      <td>Jun 29, 2012</td>\n",
       "      <td>False</td>\n",
       "      <td>no date</td>\n",
       "      <td>BILL NUMBER:S6944\\n\\nTITLE OF BILL:\\nAn act\\nt...</td>\n",
       "      <td>provides that a hotel or convention center whi...</td>\n",
       "      <td>S6944 (ACTIVE) - Bill Text\\n          \\ndownlo...</td>\n",
       "      <td>8 days</td>\n",
       "    </tr>\n",
       "    <tr>\n",
       "      <th>6923</th>\n",
       "      <td>senate        Bill S6940</td>\n",
       "      <td>2017</td>\n",
       "      <td>https://www.nysenate.gov/legislation/bills/201...</td>\n",
       "      <td>Prohibits pharmacy benefit managers from restr...</td>\n",
       "      <td>Kemp Hannon</td>\n",
       "      <td>(R, C, IP) 0 Senate District</td>\n",
       "      <td>60</td>\n",
       "      <td>0</td>\n",
       "      <td>True</td>\n",
       "      <td>2018-12-17</td>\n",
       "      <td>...</td>\n",
       "      <td>2018-03-06</td>\n",
       "      <td>returned to assembly</td>\n",
       "      <td>False</td>\n",
       "      <td>no date</td>\n",
       "      <td>True</td>\n",
       "      <td>Dec 28, 2018</td>\n",
       "      <td>BILL NUMBER: S6940\\n\\nSPONSOR: HANNON\\n \\nTITL...</td>\n",
       "      <td>Further, this section prohibits the imposition...</td>\n",
       "      <td>S6940 (ACTIVE) - Bill Text\\n          \\ndownlo...</td>\n",
       "      <td>286 days</td>\n",
       "    </tr>\n",
       "  </tbody>\n",
       "</table>\n",
       "<p>2 rows × 21 columns</p>\n",
       "</div>"
      ],
      "text/plain": [
       "                   bill_number  session  \\\n",
       "6923  senate        Bill S6944     2011   \n",
       "6923  senate        Bill S6940     2017   \n",
       "\n",
       "                                                    url  \\\n",
       "6923  https://www.nysenate.gov/legislation/bills/201...   \n",
       "6923  https://www.nysenate.gov/legislation/bills/201...   \n",
       "\n",
       "                                             bill_title     spon_sen_name  \\\n",
       "6923  Relates to the definition of certain covered p...  Martin J. Golden   \n",
       "6923  Prohibits pharmacy benefit managers from restr...       Kemp Hannon   \n",
       "\n",
       "                         dist_name aye_vote nay_vote   dtg   dtg_date  ...  \\\n",
       "6923  (R, C, IP) 0 Senate District       60        0  True 2012-06-28  ...   \n",
       "6923  (R, C, IP) 0 Senate District       60        0  True 2018-12-17  ...   \n",
       "\n",
       "       lla_date            lla_action signed_by_gov   signed_date  \\\n",
       "6923 2012-06-20  returned to assembly          True  Jun 29, 2012   \n",
       "6923 2018-03-06  returned to assembly         False       no date   \n",
       "\n",
       "     vetoed_by_gov   vetoed_date  \\\n",
       "6923         False       no date   \n",
       "6923          True  Dec 28, 2018   \n",
       "\n",
       "                                           sponser_memo  \\\n",
       "6923  BILL NUMBER:S6944\\n\\nTITLE OF BILL:\\nAn act\\nt...   \n",
       "6923  BILL NUMBER: S6940\\n\\nSPONSOR: HANNON\\n \\nTITL...   \n",
       "\n",
       "                                          sponser_memo2  \\\n",
       "6923  provides that a hotel or convention center whi...   \n",
       "6923  Further, this section prohibits the imposition...   \n",
       "\n",
       "                                              bill_text time_to_dtg  \n",
       "6923  S6944 (ACTIVE) - Bill Text\\n          \\ndownlo...      8 days  \n",
       "6923  S6940 (ACTIVE) - Bill Text\\n          \\ndownlo...    286 days  \n",
       "\n",
       "[2 rows x 21 columns]"
      ]
     },
     "execution_count": 34,
     "metadata": {},
     "output_type": "execute_result"
    }
   ],
   "source": [
    "df_dtg.loc[[6923]]"
   ]
  },
  {
   "cell_type": "markdown",
   "metadata": {},
   "source": [
    "### Longest in data set"
   ]
  },
  {
   "cell_type": "code",
   "execution_count": 35,
   "metadata": {},
   "outputs": [
    {
     "data": {
      "text/html": [
       "<div>\n",
       "<style scoped>\n",
       "    .dataframe tbody tr th:only-of-type {\n",
       "        vertical-align: middle;\n",
       "    }\n",
       "\n",
       "    .dataframe tbody tr th {\n",
       "        vertical-align: top;\n",
       "    }\n",
       "\n",
       "    .dataframe thead th {\n",
       "        text-align: right;\n",
       "    }\n",
       "</style>\n",
       "<table border=\"1\" class=\"dataframe\">\n",
       "  <thead>\n",
       "    <tr style=\"text-align: right;\">\n",
       "      <th></th>\n",
       "      <th>bill_number</th>\n",
       "      <th>session</th>\n",
       "      <th>url</th>\n",
       "      <th>bill_title</th>\n",
       "      <th>spon_sen_name</th>\n",
       "      <th>dist_name</th>\n",
       "      <th>aye_vote</th>\n",
       "      <th>nay_vote</th>\n",
       "      <th>dtg</th>\n",
       "      <th>dtg_date</th>\n",
       "      <th>...</th>\n",
       "      <th>lla_date</th>\n",
       "      <th>lla_action</th>\n",
       "      <th>signed_by_gov</th>\n",
       "      <th>signed_date</th>\n",
       "      <th>vetoed_by_gov</th>\n",
       "      <th>vetoed_date</th>\n",
       "      <th>sponser_memo</th>\n",
       "      <th>sponser_memo2</th>\n",
       "      <th>bill_text</th>\n",
       "      <th>time_to_dtg</th>\n",
       "    </tr>\n",
       "  </thead>\n",
       "  <tbody>\n",
       "    <tr>\n",
       "      <th>5101</th>\n",
       "      <td>senate        Bill S5121</td>\n",
       "      <td>2013</td>\n",
       "      <td>https://www.nysenate.gov/legislation/bills/201...</td>\n",
       "      <td>Relates to the demutualization of domestic mut...</td>\n",
       "      <td>Joseph A. Griffo</td>\n",
       "      <td>(R, C, IP) 47th Senate District</td>\n",
       "      <td>62</td>\n",
       "      <td>0</td>\n",
       "      <td>True</td>\n",
       "      <td>2013-07-19</td>\n",
       "      <td>...</td>\n",
       "      <td>2013-06-17</td>\n",
       "      <td>returned to senate</td>\n",
       "      <td>True</td>\n",
       "      <td>Jul 31, 2013</td>\n",
       "      <td>False</td>\n",
       "      <td>no date</td>\n",
       "      <td>BILL NUMBER:S5121\\n\\nTITLE OF BILL:  An act to...</td>\n",
       "      <td>report of the company's fair market value by q...</td>\n",
       "      <td>S5121 (ACTIVE) - Bill Text\\n          \\ndownlo...</td>\n",
       "      <td>32 days</td>\n",
       "    </tr>\n",
       "    <tr>\n",
       "      <th>5101</th>\n",
       "      <td>senate        Bill S5112</td>\n",
       "      <td>2015</td>\n",
       "      <td>https://www.nysenate.gov/legislation/bills/201...</td>\n",
       "      <td>Relates to blackfish or tautog</td>\n",
       "      <td>Kenneth P. LaValle</td>\n",
       "      <td>(R) 0 Senate District</td>\n",
       "      <td>61</td>\n",
       "      <td>0</td>\n",
       "      <td>True</td>\n",
       "      <td>2016-07-13</td>\n",
       "      <td>...</td>\n",
       "      <td>2016-06-08</td>\n",
       "      <td>returned to senate</td>\n",
       "      <td>True</td>\n",
       "      <td>Jul 21, 2016</td>\n",
       "      <td>False</td>\n",
       "      <td>no date</td>\n",
       "      <td>BILL NUMBER:S5112\\n\\nTITLE OF BILL:  An act to...</td>\n",
       "      <td>particular, there is no fishing income eligibi...</td>\n",
       "      <td>S5112 (ACTIVE) - Bill Text\\n          \\ndownlo...</td>\n",
       "      <td>35 days</td>\n",
       "    </tr>\n",
       "    <tr>\n",
       "      <th>5101</th>\n",
       "      <td>senate        Bill S5118B</td>\n",
       "      <td>2017</td>\n",
       "      <td>https://www.nysenate.gov/legislation/bills/201...</td>\n",
       "      <td>Relates to the appointment and promotion of su...</td>\n",
       "      <td>Martin J. Golden</td>\n",
       "      <td>(R, C, IP) 0 Senate District</td>\n",
       "      <td>60</td>\n",
       "      <td>0</td>\n",
       "      <td>True</td>\n",
       "      <td>2018-12-12</td>\n",
       "      <td>...</td>\n",
       "      <td>2018-02-12</td>\n",
       "      <td>returned to senate</td>\n",
       "      <td>True</td>\n",
       "      <td>Dec 21, 2018</td>\n",
       "      <td>False</td>\n",
       "      <td>no date</td>\n",
       "      <td>BILL NUMBER:  S5118\\n\\n TITLE OF BILL :  An ac...</td>\n",
       "      <td>immediately.\\n\\n JUSTIFICATION :\\n\\nThe New Yo...</td>\n",
       "      <td>S5118 - Bill Text\\n          \\ndownload pdf\\n\\...</td>\n",
       "      <td>303 days</td>\n",
       "    </tr>\n",
       "    <tr>\n",
       "      <th>5101</th>\n",
       "      <td>senate        Bill S5112A</td>\n",
       "      <td>2019</td>\n",
       "      <td>https://www.nysenate.gov/legislation/bills/201...</td>\n",
       "      <td>Designates a portion of the state highway syst...</td>\n",
       "      <td>Kenneth P. LaValle</td>\n",
       "      <td>(R) 0 Senate District</td>\n",
       "      <td>62</td>\n",
       "      <td>0</td>\n",
       "      <td>True</td>\n",
       "      <td>2019-08-05</td>\n",
       "      <td>...</td>\n",
       "      <td>2019-06-18</td>\n",
       "      <td>returned to senate</td>\n",
       "      <td>True</td>\n",
       "      <td>Aug 09, 2019</td>\n",
       "      <td>False</td>\n",
       "      <td>no date</td>\n",
       "      <td>BILL NUMBER: S5112\\n\\nSPONSOR: LAVALLE\\n \\nTIT...</td>\n",
       "      <td>and maintenance of adequate signing of the sta...</td>\n",
       "      <td>S5112 - Bill Text\\n          \\ndownload pdf\\n\\...</td>\n",
       "      <td>48 days</td>\n",
       "    </tr>\n",
       "  </tbody>\n",
       "</table>\n",
       "<p>4 rows × 21 columns</p>\n",
       "</div>"
      ],
      "text/plain": [
       "                    bill_number  session  \\\n",
       "5101   senate        Bill S5121     2013   \n",
       "5101   senate        Bill S5112     2015   \n",
       "5101  senate        Bill S5118B     2017   \n",
       "5101  senate        Bill S5112A     2019   \n",
       "\n",
       "                                                    url  \\\n",
       "5101  https://www.nysenate.gov/legislation/bills/201...   \n",
       "5101  https://www.nysenate.gov/legislation/bills/201...   \n",
       "5101  https://www.nysenate.gov/legislation/bills/201...   \n",
       "5101  https://www.nysenate.gov/legislation/bills/201...   \n",
       "\n",
       "                                             bill_title       spon_sen_name  \\\n",
       "5101  Relates to the demutualization of domestic mut...    Joseph A. Griffo   \n",
       "5101                     Relates to blackfish or tautog  Kenneth P. LaValle   \n",
       "5101  Relates to the appointment and promotion of su...    Martin J. Golden   \n",
       "5101  Designates a portion of the state highway syst...  Kenneth P. LaValle   \n",
       "\n",
       "                            dist_name aye_vote nay_vote   dtg   dtg_date  ...  \\\n",
       "5101  (R, C, IP) 47th Senate District       62        0  True 2013-07-19  ...   \n",
       "5101            (R) 0 Senate District       61        0  True 2016-07-13  ...   \n",
       "5101     (R, C, IP) 0 Senate District       60        0  True 2018-12-12  ...   \n",
       "5101            (R) 0 Senate District       62        0  True 2019-08-05  ...   \n",
       "\n",
       "       lla_date          lla_action signed_by_gov   signed_date vetoed_by_gov  \\\n",
       "5101 2013-06-17  returned to senate          True  Jul 31, 2013         False   \n",
       "5101 2016-06-08  returned to senate          True  Jul 21, 2016         False   \n",
       "5101 2018-02-12  returned to senate          True  Dec 21, 2018         False   \n",
       "5101 2019-06-18  returned to senate          True  Aug 09, 2019         False   \n",
       "\n",
       "      vetoed_date                                       sponser_memo  \\\n",
       "5101      no date  BILL NUMBER:S5121\\n\\nTITLE OF BILL:  An act to...   \n",
       "5101      no date  BILL NUMBER:S5112\\n\\nTITLE OF BILL:  An act to...   \n",
       "5101      no date  BILL NUMBER:  S5118\\n\\n TITLE OF BILL :  An ac...   \n",
       "5101      no date  BILL NUMBER: S5112\\n\\nSPONSOR: LAVALLE\\n \\nTIT...   \n",
       "\n",
       "                                          sponser_memo2  \\\n",
       "5101  report of the company's fair market value by q...   \n",
       "5101  particular, there is no fishing income eligibi...   \n",
       "5101  immediately.\\n\\n JUSTIFICATION :\\n\\nThe New Yo...   \n",
       "5101  and maintenance of adequate signing of the sta...   \n",
       "\n",
       "                                              bill_text time_to_dtg  \n",
       "5101  S5121 (ACTIVE) - Bill Text\\n          \\ndownlo...     32 days  \n",
       "5101  S5112 (ACTIVE) - Bill Text\\n          \\ndownlo...     35 days  \n",
       "5101  S5118 - Bill Text\\n          \\ndownload pdf\\n\\...    303 days  \n",
       "5101  S5112 - Bill Text\\n          \\ndownload pdf\\n\\...     48 days  \n",
       "\n",
       "[4 rows x 21 columns]"
      ]
     },
     "execution_count": 35,
     "metadata": {},
     "output_type": "execute_result"
    }
   ],
   "source": [
    "df_dtg.loc[5101]"
   ]
  },
  {
   "cell_type": "code",
   "execution_count": 36,
   "metadata": {},
   "outputs": [
    {
     "data": {
      "text/plain": [
       "6236     0 days\n",
       "1983     0 days\n",
       "6238     0 days\n",
       "7077     0 days\n",
       "6880     0 days\n",
       "         ...   \n",
       "6651   282 days\n",
       "1809   285 days\n",
       "6923   286 days\n",
       "2494   293 days\n",
       "5101   303 days\n",
       "Name: time_to_dtg, Length: 6400, dtype: timedelta64[ns]"
      ]
     },
     "execution_count": 36,
     "metadata": {},
     "output_type": "execute_result"
    }
   ],
   "source": [
    "df_dtg.time_to_dtg.sort_values(ascending=True)"
   ]
  },
  {
   "cell_type": "code",
   "execution_count": 37,
   "metadata": {},
   "outputs": [
    {
     "data": {
      "text/html": [
       "<div>\n",
       "<style scoped>\n",
       "    .dataframe tbody tr th:only-of-type {\n",
       "        vertical-align: middle;\n",
       "    }\n",
       "\n",
       "    .dataframe tbody tr th {\n",
       "        vertical-align: top;\n",
       "    }\n",
       "\n",
       "    .dataframe thead th {\n",
       "        text-align: right;\n",
       "    }\n",
       "</style>\n",
       "<table border=\"1\" class=\"dataframe\">\n",
       "  <thead>\n",
       "    <tr style=\"text-align: right;\">\n",
       "      <th></th>\n",
       "      <th>bill_number</th>\n",
       "      <th>session</th>\n",
       "      <th>url</th>\n",
       "      <th>bill_title</th>\n",
       "      <th>spon_sen_name</th>\n",
       "      <th>dist_name</th>\n",
       "      <th>aye_vote</th>\n",
       "      <th>nay_vote</th>\n",
       "      <th>dtg</th>\n",
       "      <th>dtg_date</th>\n",
       "      <th>...</th>\n",
       "      <th>lla_date</th>\n",
       "      <th>lla_action</th>\n",
       "      <th>signed_by_gov</th>\n",
       "      <th>signed_date</th>\n",
       "      <th>vetoed_by_gov</th>\n",
       "      <th>vetoed_date</th>\n",
       "      <th>sponser_memo</th>\n",
       "      <th>sponser_memo2</th>\n",
       "      <th>bill_text</th>\n",
       "      <th>time_to_dtg</th>\n",
       "    </tr>\n",
       "  </thead>\n",
       "  <tbody>\n",
       "    <tr>\n",
       "      <th>2494</th>\n",
       "      <td>senate        Bill S2505</td>\n",
       "      <td>2019</td>\n",
       "      <td>https://www.nysenate.gov/legislation/bills/201...</td>\n",
       "      <td>Relates to name change upon marriage\\n\\n\\nWome...</td>\n",
       "      <td>Anna M. Kaplan</td>\n",
       "      <td>(D, IP, WF) 7th Senate District</td>\n",
       "      <td>62</td>\n",
       "      <td>0</td>\n",
       "      <td>True</td>\n",
       "      <td>2019-12-17</td>\n",
       "      <td>...</td>\n",
       "      <td>2019-02-27</td>\n",
       "      <td>returned to assembly</td>\n",
       "      <td>True</td>\n",
       "      <td>Dec 20, 2019</td>\n",
       "      <td>False</td>\n",
       "      <td>no date</td>\n",
       "      <td>BILL NUMBER: S2505          REVISED 2/28/19\\n\\...</td>\n",
       "      <td>other spouse.\\n\\nSection 2 amends subdivision ...</td>\n",
       "      <td>S2505 (ACTIVE) - Bill Text\\n          \\ndownlo...</td>\n",
       "      <td>293 days</td>\n",
       "    </tr>\n",
       "  </tbody>\n",
       "</table>\n",
       "<p>1 rows × 21 columns</p>\n",
       "</div>"
      ],
      "text/plain": [
       "                   bill_number  session  \\\n",
       "2494  senate        Bill S2505     2019   \n",
       "\n",
       "                                                    url  \\\n",
       "2494  https://www.nysenate.gov/legislation/bills/201...   \n",
       "\n",
       "                                             bill_title   spon_sen_name  \\\n",
       "2494  Relates to name change upon marriage\\n\\n\\nWome...  Anna M. Kaplan   \n",
       "\n",
       "                            dist_name aye_vote nay_vote   dtg   dtg_date  ...  \\\n",
       "2494  (D, IP, WF) 7th Senate District       62        0  True 2019-12-17  ...   \n",
       "\n",
       "       lla_date            lla_action signed_by_gov   signed_date  \\\n",
       "2494 2019-02-27  returned to assembly          True  Dec 20, 2019   \n",
       "\n",
       "     vetoed_by_gov  vetoed_date  \\\n",
       "2494         False      no date   \n",
       "\n",
       "                                           sponser_memo  \\\n",
       "2494  BILL NUMBER: S2505          REVISED 2/28/19\\n\\...   \n",
       "\n",
       "                                          sponser_memo2  \\\n",
       "2494  other spouse.\\n\\nSection 2 amends subdivision ...   \n",
       "\n",
       "                                              bill_text time_to_dtg  \n",
       "2494  S2505 (ACTIVE) - Bill Text\\n          \\ndownlo...    293 days  \n",
       "\n",
       "[1 rows x 21 columns]"
      ]
     },
     "execution_count": 37,
     "metadata": {},
     "output_type": "execute_result"
    }
   ],
   "source": [
    "df_dtg.loc[[2494]]"
   ]
  },
  {
   "cell_type": "code",
   "execution_count": 38,
   "metadata": {},
   "outputs": [
    {
     "data": {
      "text/html": [
       "<div>\n",
       "<style scoped>\n",
       "    .dataframe tbody tr th:only-of-type {\n",
       "        vertical-align: middle;\n",
       "    }\n",
       "\n",
       "    .dataframe tbody tr th {\n",
       "        vertical-align: top;\n",
       "    }\n",
       "\n",
       "    .dataframe thead th {\n",
       "        text-align: right;\n",
       "    }\n",
       "</style>\n",
       "<table border=\"1\" class=\"dataframe\">\n",
       "  <thead>\n",
       "    <tr style=\"text-align: right;\">\n",
       "      <th></th>\n",
       "      <th>bill_number</th>\n",
       "      <th>session</th>\n",
       "      <th>url</th>\n",
       "      <th>bill_title</th>\n",
       "      <th>spon_sen_name</th>\n",
       "      <th>dist_name</th>\n",
       "      <th>aye_vote</th>\n",
       "      <th>nay_vote</th>\n",
       "      <th>dtg</th>\n",
       "      <th>dtg_date</th>\n",
       "      <th>...</th>\n",
       "      <th>lla_date</th>\n",
       "      <th>lla_action</th>\n",
       "      <th>signed_by_gov</th>\n",
       "      <th>signed_date</th>\n",
       "      <th>vetoed_by_gov</th>\n",
       "      <th>vetoed_date</th>\n",
       "      <th>sponser_memo</th>\n",
       "      <th>sponser_memo2</th>\n",
       "      <th>bill_text</th>\n",
       "      <th>time_to_dtg</th>\n",
       "    </tr>\n",
       "  </thead>\n",
       "  <tbody>\n",
       "    <tr>\n",
       "      <th>1983</th>\n",
       "      <td>senate        Bill S2003</td>\n",
       "      <td>2013</td>\n",
       "      <td>https://www.nysenate.gov/legislation/bills/201...</td>\n",
       "      <td>Provides for a charge-back of refunds of taxes...</td>\n",
       "      <td>David Carlucci</td>\n",
       "      <td>(D) 0 Senate District</td>\n",
       "      <td>58</td>\n",
       "      <td>0</td>\n",
       "      <td>True</td>\n",
       "      <td>2014-12-17</td>\n",
       "      <td>...</td>\n",
       "      <td>2014-06-19</td>\n",
       "      <td>returned to senate</td>\n",
       "      <td>True</td>\n",
       "      <td>Dec 29, 2014</td>\n",
       "      <td>False</td>\n",
       "      <td>no date</td>\n",
       "      <td>BILL NUMBER:S2003\\n\\nTITLE  OF BILL:   An act ...</td>\n",
       "      <td>refunds to such libraries. The inequity of req...</td>\n",
       "      <td>S2003 (ACTIVE) - Bill Text\\n          \\ndownlo...</td>\n",
       "      <td>181 days</td>\n",
       "    </tr>\n",
       "    <tr>\n",
       "      <th>1983</th>\n",
       "      <td>senate        Bill S2000D</td>\n",
       "      <td>2017</td>\n",
       "      <td>https://www.nysenate.gov/legislation/bills/201...</td>\n",
       "      <td>STATE OPERATIONS BUDGET</td>\n",
       "      <td>No sponsers found</td>\n",
       "      <td>No district found</td>\n",
       "      <td>57</td>\n",
       "      <td>0</td>\n",
       "      <td>True</td>\n",
       "      <td>2017-04-09</td>\n",
       "      <td>...</td>\n",
       "      <td>2017-04-09</td>\n",
       "      <td>substituted by a3000d</td>\n",
       "      <td>True</td>\n",
       "      <td>Apr 20, 2017</td>\n",
       "      <td>False</td>\n",
       "      <td>no date</td>\n",
       "      <td>NaN</td>\n",
       "      <td>list index out of range</td>\n",
       "      <td>S2000 - Bill Text\\n          \\ndownload pdf</td>\n",
       "      <td>0 days</td>\n",
       "    </tr>\n",
       "  </tbody>\n",
       "</table>\n",
       "<p>2 rows × 21 columns</p>\n",
       "</div>"
      ],
      "text/plain": [
       "                    bill_number  session  \\\n",
       "1983   senate        Bill S2003     2013   \n",
       "1983  senate        Bill S2000D     2017   \n",
       "\n",
       "                                                    url  \\\n",
       "1983  https://www.nysenate.gov/legislation/bills/201...   \n",
       "1983  https://www.nysenate.gov/legislation/bills/201...   \n",
       "\n",
       "                                             bill_title      spon_sen_name  \\\n",
       "1983  Provides for a charge-back of refunds of taxes...     David Carlucci   \n",
       "1983                            STATE OPERATIONS BUDGET  No sponsers found   \n",
       "\n",
       "                  dist_name aye_vote nay_vote   dtg   dtg_date  ...  \\\n",
       "1983  (D) 0 Senate District       58        0  True 2014-12-17  ...   \n",
       "1983      No district found       57        0  True 2017-04-09  ...   \n",
       "\n",
       "       lla_date             lla_action signed_by_gov   signed_date  \\\n",
       "1983 2014-06-19     returned to senate          True  Dec 29, 2014   \n",
       "1983 2017-04-09  substituted by a3000d          True  Apr 20, 2017   \n",
       "\n",
       "     vetoed_by_gov  vetoed_date  \\\n",
       "1983         False      no date   \n",
       "1983         False      no date   \n",
       "\n",
       "                                           sponser_memo  \\\n",
       "1983  BILL NUMBER:S2003\\n\\nTITLE  OF BILL:   An act ...   \n",
       "1983                                                NaN   \n",
       "\n",
       "                                          sponser_memo2  \\\n",
       "1983  refunds to such libraries. The inequity of req...   \n",
       "1983                            list index out of range   \n",
       "\n",
       "                                              bill_text time_to_dtg  \n",
       "1983  S2003 (ACTIVE) - Bill Text\\n          \\ndownlo...    181 days  \n",
       "1983        S2000 - Bill Text\\n          \\ndownload pdf      0 days  \n",
       "\n",
       "[2 rows x 21 columns]"
      ]
     },
     "execution_count": 38,
     "metadata": {},
     "output_type": "execute_result"
    }
   ],
   "source": [
    "df_dtg.loc[[1983]]"
   ]
  },
  {
   "cell_type": "code",
   "execution_count": 39,
   "metadata": {},
   "outputs": [
    {
     "data": {
      "text/html": [
       "<div>\n",
       "<style scoped>\n",
       "    .dataframe tbody tr th:only-of-type {\n",
       "        vertical-align: middle;\n",
       "    }\n",
       "\n",
       "    .dataframe tbody tr th {\n",
       "        vertical-align: top;\n",
       "    }\n",
       "\n",
       "    .dataframe thead th {\n",
       "        text-align: right;\n",
       "    }\n",
       "</style>\n",
       "<table border=\"1\" class=\"dataframe\">\n",
       "  <thead>\n",
       "    <tr style=\"text-align: right;\">\n",
       "      <th></th>\n",
       "      <th>bill_number</th>\n",
       "      <th>session</th>\n",
       "      <th>url</th>\n",
       "      <th>bill_title</th>\n",
       "      <th>spon_sen_name</th>\n",
       "      <th>dist_name</th>\n",
       "      <th>aye_vote</th>\n",
       "      <th>nay_vote</th>\n",
       "      <th>dtg</th>\n",
       "      <th>dtg_date</th>\n",
       "      <th>...</th>\n",
       "      <th>lla_date</th>\n",
       "      <th>lla_action</th>\n",
       "      <th>signed_by_gov</th>\n",
       "      <th>signed_date</th>\n",
       "      <th>vetoed_by_gov</th>\n",
       "      <th>vetoed_date</th>\n",
       "      <th>sponser_memo</th>\n",
       "      <th>sponser_memo2</th>\n",
       "      <th>bill_text</th>\n",
       "      <th>time_to_dtg</th>\n",
       "    </tr>\n",
       "  </thead>\n",
       "  <tbody>\n",
       "    <tr>\n",
       "      <th>6238</th>\n",
       "      <td>senate        Bill S6259D</td>\n",
       "      <td>2011</td>\n",
       "      <td>https://www.nysenate.gov/legislation/bills/201...</td>\n",
       "      <td>Enacts into law major components of legislatio...</td>\n",
       "      <td>No sponsers found</td>\n",
       "      <td>No district found</td>\n",
       "      <td>55</td>\n",
       "      <td>5</td>\n",
       "      <td>True</td>\n",
       "      <td>2012-03-30</td>\n",
       "      <td>...</td>\n",
       "      <td>2012-03-30</td>\n",
       "      <td>substituted by a9059d</td>\n",
       "      <td>True</td>\n",
       "      <td>Mar 30, 2012</td>\n",
       "      <td>False</td>\n",
       "      <td>no date</td>\n",
       "      <td>BILL NUMBER:S6259\\n\\nTITLE OF BILL:\\n\\nAn act\\...</td>\n",
       "      <td>to amend the tax law, in relation\\nto making t...</td>\n",
       "      <td>S6259 - Bill Text\\n          \\ndownload pdf\\n\\...</td>\n",
       "      <td>0 days</td>\n",
       "    </tr>\n",
       "    <tr>\n",
       "      <th>6238</th>\n",
       "      <td>senate        Bill S6249</td>\n",
       "      <td>2015</td>\n",
       "      <td>https://www.nysenate.gov/legislation/bills/201...</td>\n",
       "      <td>Establishes a tax credit for the purchase and ...</td>\n",
       "      <td>Robert G. Ortt</td>\n",
       "      <td>(R, C, IP) 62nd Senate District</td>\n",
       "      <td>62</td>\n",
       "      <td>0</td>\n",
       "      <td>True</td>\n",
       "      <td>2016-11-16</td>\n",
       "      <td>...</td>\n",
       "      <td>2016-06-15</td>\n",
       "      <td>returned to assembly</td>\n",
       "      <td>False</td>\n",
       "      <td>no date</td>\n",
       "      <td>True</td>\n",
       "      <td>Nov 28, 2016</td>\n",
       "      <td>BILL NUMBER:  S6249\\n\\n TITLE OF BILL :\\n\\nAn ...</td>\n",
       "      <td>carbon used to heat buildings.\\n\\n PRIOR LEGIS...</td>\n",
       "      <td>S6249 (ACTIVE) - Bill Text\\n          \\ndownlo...</td>\n",
       "      <td>154 days</td>\n",
       "    </tr>\n",
       "    <tr>\n",
       "      <th>6238</th>\n",
       "      <td>senate        Bill S6249</td>\n",
       "      <td>2019</td>\n",
       "      <td>https://www.nysenate.gov/legislation/bills/201...</td>\n",
       "      <td>Clarifies the employee requirements for apprai...</td>\n",
       "      <td>James Sanders Jr.</td>\n",
       "      <td>(D) 10th Senate District</td>\n",
       "      <td>62</td>\n",
       "      <td>0</td>\n",
       "      <td>True</td>\n",
       "      <td>2019-12-10</td>\n",
       "      <td>...</td>\n",
       "      <td>2019-06-17</td>\n",
       "      <td>returned to assembly</td>\n",
       "      <td>True</td>\n",
       "      <td>Dec 16, 2019</td>\n",
       "      <td>False</td>\n",
       "      <td>no date</td>\n",
       "      <td>BILL NUMBER: S6249\\n\\nSPONSOR: SANDERS\\n \\nTIT...</td>\n",
       "      <td>JUSTIFICATION:\\n\\nCurrent law has been interpr...</td>\n",
       "      <td>S6249 (ACTIVE) - Bill Text\\n          \\ndownlo...</td>\n",
       "      <td>176 days</td>\n",
       "    </tr>\n",
       "  </tbody>\n",
       "</table>\n",
       "<p>3 rows × 21 columns</p>\n",
       "</div>"
      ],
      "text/plain": [
       "                    bill_number  session  \\\n",
       "6238  senate        Bill S6259D     2011   \n",
       "6238   senate        Bill S6249     2015   \n",
       "6238   senate        Bill S6249     2019   \n",
       "\n",
       "                                                    url  \\\n",
       "6238  https://www.nysenate.gov/legislation/bills/201...   \n",
       "6238  https://www.nysenate.gov/legislation/bills/201...   \n",
       "6238  https://www.nysenate.gov/legislation/bills/201...   \n",
       "\n",
       "                                             bill_title      spon_sen_name  \\\n",
       "6238  Enacts into law major components of legislatio...  No sponsers found   \n",
       "6238  Establishes a tax credit for the purchase and ...     Robert G. Ortt   \n",
       "6238  Clarifies the employee requirements for apprai...  James Sanders Jr.   \n",
       "\n",
       "                            dist_name aye_vote nay_vote   dtg   dtg_date  ...  \\\n",
       "6238                No district found       55        5  True 2012-03-30  ...   \n",
       "6238  (R, C, IP) 62nd Senate District       62        0  True 2016-11-16  ...   \n",
       "6238         (D) 10th Senate District       62        0  True 2019-12-10  ...   \n",
       "\n",
       "       lla_date             lla_action signed_by_gov   signed_date  \\\n",
       "6238 2012-03-30  substituted by a9059d          True  Mar 30, 2012   \n",
       "6238 2016-06-15   returned to assembly         False       no date   \n",
       "6238 2019-06-17   returned to assembly          True  Dec 16, 2019   \n",
       "\n",
       "     vetoed_by_gov   vetoed_date  \\\n",
       "6238         False       no date   \n",
       "6238          True  Nov 28, 2016   \n",
       "6238         False       no date   \n",
       "\n",
       "                                           sponser_memo  \\\n",
       "6238  BILL NUMBER:S6259\\n\\nTITLE OF BILL:\\n\\nAn act\\...   \n",
       "6238  BILL NUMBER:  S6249\\n\\n TITLE OF BILL :\\n\\nAn ...   \n",
       "6238  BILL NUMBER: S6249\\n\\nSPONSOR: SANDERS\\n \\nTIT...   \n",
       "\n",
       "                                          sponser_memo2  \\\n",
       "6238  to amend the tax law, in relation\\nto making t...   \n",
       "6238  carbon used to heat buildings.\\n\\n PRIOR LEGIS...   \n",
       "6238  JUSTIFICATION:\\n\\nCurrent law has been interpr...   \n",
       "\n",
       "                                              bill_text time_to_dtg  \n",
       "6238  S6259 - Bill Text\\n          \\ndownload pdf\\n\\...      0 days  \n",
       "6238  S6249 (ACTIVE) - Bill Text\\n          \\ndownlo...    154 days  \n",
       "6238  S6249 (ACTIVE) - Bill Text\\n          \\ndownlo...    176 days  \n",
       "\n",
       "[3 rows x 21 columns]"
      ]
     },
     "execution_count": 39,
     "metadata": {},
     "output_type": "execute_result"
    }
   ],
   "source": [
    "df_dtg.loc[[6238]]"
   ]
  },
  {
   "cell_type": "code",
   "execution_count": 40,
   "metadata": {},
   "outputs": [
    {
     "data": {
      "text/plain": [
       "(5458, 21)"
      ]
     },
     "execution_count": 40,
     "metadata": {},
     "output_type": "execute_result"
    }
   ],
   "source": [
    "df_dtg[df_dtg.signed_by_gov == True].shape"
   ]
  },
  {
   "cell_type": "code",
   "execution_count": 41,
   "metadata": {},
   "outputs": [
    {
     "data": {
      "text/html": [
       "<div>\n",
       "<style scoped>\n",
       "    .dataframe tbody tr th:only-of-type {\n",
       "        vertical-align: middle;\n",
       "    }\n",
       "\n",
       "    .dataframe tbody tr th {\n",
       "        vertical-align: top;\n",
       "    }\n",
       "\n",
       "    .dataframe thead th {\n",
       "        text-align: right;\n",
       "    }\n",
       "</style>\n",
       "<table border=\"1\" class=\"dataframe\">\n",
       "  <thead>\n",
       "    <tr style=\"text-align: right;\">\n",
       "      <th></th>\n",
       "      <th>bill_number</th>\n",
       "      <th>session</th>\n",
       "      <th>url</th>\n",
       "      <th>bill_title</th>\n",
       "      <th>spon_sen_name</th>\n",
       "      <th>dist_name</th>\n",
       "      <th>aye_vote</th>\n",
       "      <th>nay_vote</th>\n",
       "      <th>dtg</th>\n",
       "      <th>dtg_date</th>\n",
       "      <th>...</th>\n",
       "      <th>lla_date</th>\n",
       "      <th>lla_action</th>\n",
       "      <th>signed_by_gov</th>\n",
       "      <th>signed_date</th>\n",
       "      <th>vetoed_by_gov</th>\n",
       "      <th>vetoed_date</th>\n",
       "      <th>sponser_memo</th>\n",
       "      <th>sponser_memo2</th>\n",
       "      <th>bill_text</th>\n",
       "      <th>time_to_dtg</th>\n",
       "    </tr>\n",
       "  </thead>\n",
       "  <tbody>\n",
       "    <tr>\n",
       "      <th>58</th>\n",
       "      <td>senate        Bill S79A</td>\n",
       "      <td>2011</td>\n",
       "      <td>https://www.nysenate.gov/legislation/bills/201...</td>\n",
       "      <td>Authorizes the incorporation of benefit corpor...</td>\n",
       "      <td>Daniel L. Squadron</td>\n",
       "      <td>(D, WF) 0 Senate District</td>\n",
       "      <td>62</td>\n",
       "      <td>0</td>\n",
       "      <td>True</td>\n",
       "      <td>2011-11-30</td>\n",
       "      <td>...</td>\n",
       "      <td>2011-06-17</td>\n",
       "      <td>returned to senate</td>\n",
       "      <td>True</td>\n",
       "      <td>Dec 12, 2011</td>\n",
       "      <td>False</td>\n",
       "      <td>no date</td>\n",
       "      <td>BILL NUMBER:S79\\n\\nTITLE OF BILL:\\nAn act\\nto ...</td>\n",
       "      <td>Section 2 of the bill amends the New York Corp...</td>\n",
       "      <td>S79 - Bill Text\\n          \\ndownload pdf\\n\\n\\...</td>\n",
       "      <td>166 days</td>\n",
       "    </tr>\n",
       "    <tr>\n",
       "      <th>128</th>\n",
       "      <td>senate        Bill S149B</td>\n",
       "      <td>2011</td>\n",
       "      <td>https://www.nysenate.gov/legislation/bills/201...</td>\n",
       "      <td>Relates to tax credits provided for solar ener...</td>\n",
       "      <td>George D. Maziarz</td>\n",
       "      <td>(R) 0 Senate District</td>\n",
       "      <td>60</td>\n",
       "      <td>0</td>\n",
       "      <td>True</td>\n",
       "      <td>2012-08-06</td>\n",
       "      <td>...</td>\n",
       "      <td>2012-06-20</td>\n",
       "      <td>returned to assembly</td>\n",
       "      <td>True</td>\n",
       "      <td>Aug 17, 2012</td>\n",
       "      <td>False</td>\n",
       "      <td>no date</td>\n",
       "      <td>BILL NUMBER:S149\\n\\nTITLE OF BILL:\\nAn act\\nto...</td>\n",
       "      <td>feasible for the individual to lease the equip...</td>\n",
       "      <td>S149 - Bill Text\\n          \\ndownload pdf\\n\\n...</td>\n",
       "      <td>47 days</td>\n",
       "    </tr>\n",
       "    <tr>\n",
       "      <th>154</th>\n",
       "      <td>senate        Bill S175</td>\n",
       "      <td>2011</td>\n",
       "      <td>https://www.nysenate.gov/legislation/bills/201...</td>\n",
       "      <td>Prohibits state officers and employees from us...</td>\n",
       "      <td>George D. Maziarz</td>\n",
       "      <td>(R) 0 Senate District</td>\n",
       "      <td>62</td>\n",
       "      <td>0</td>\n",
       "      <td>True</td>\n",
       "      <td>2011-09-12</td>\n",
       "      <td>...</td>\n",
       "      <td>2011-06-21</td>\n",
       "      <td>returned to assembly</td>\n",
       "      <td>True</td>\n",
       "      <td>Sep 23, 2011</td>\n",
       "      <td>False</td>\n",
       "      <td>no date</td>\n",
       "      <td>BILL NUMBER:S175\\n\\nTITLE OF BILL:\\nAn act\\nto...</td>\n",
       "      <td>JUSTIFICATION:\\nWhile during working hours, it...</td>\n",
       "      <td>S175 (ACTIVE) - Bill Text\\n          \\ndownloa...</td>\n",
       "      <td>83 days</td>\n",
       "    </tr>\n",
       "    <tr>\n",
       "      <th>156</th>\n",
       "      <td>senate        Bill S177A</td>\n",
       "      <td>2011</td>\n",
       "      <td>https://www.nysenate.gov/legislation/bills/201...</td>\n",
       "      <td>Reduces the required minimum age for obtaining...</td>\n",
       "      <td>George D. Maziarz</td>\n",
       "      <td>(R) 0 Senate District</td>\n",
       "      <td>53</td>\n",
       "      <td>7</td>\n",
       "      <td>True</td>\n",
       "      <td>2011-05-06</td>\n",
       "      <td>...</td>\n",
       "      <td>2011-05-03</td>\n",
       "      <td>returned to senate</td>\n",
       "      <td>True</td>\n",
       "      <td>May 17, 2011</td>\n",
       "      <td>False</td>\n",
       "      <td>no date</td>\n",
       "      <td>BILL NUMBER:S177\\n\\nTITLE OF BILL:  An act to ...</td>\n",
       "      <td>NaN</td>\n",
       "      <td>S177 - Bill Text\\n          \\ndownload pdf\\n\\n...</td>\n",
       "      <td>3 days</td>\n",
       "    </tr>\n",
       "    <tr>\n",
       "      <th>184</th>\n",
       "      <td>senate        Bill S205</td>\n",
       "      <td>2011</td>\n",
       "      <td>https://www.nysenate.gov/legislation/bills/201...</td>\n",
       "      <td>Authorizes a county, city, town or village to ...</td>\n",
       "      <td>George D. Maziarz</td>\n",
       "      <td>(R) 0 Senate District</td>\n",
       "      <td>55</td>\n",
       "      <td>0</td>\n",
       "      <td>True</td>\n",
       "      <td>2011-04-15</td>\n",
       "      <td>...</td>\n",
       "      <td>2011-04-06</td>\n",
       "      <td>returned to assembly</td>\n",
       "      <td>True</td>\n",
       "      <td>Apr 27, 2011</td>\n",
       "      <td>False</td>\n",
       "      <td>no date</td>\n",
       "      <td>BILL NUMBER:S205\\n\\nTITLE OF BILL:\\nAn act\\nto...</td>\n",
       "      <td>directed to be made and completed on or before...</td>\n",
       "      <td>S205 (ACTIVE) - Bill Text\\n          \\ndownloa...</td>\n",
       "      <td>9 days</td>\n",
       "    </tr>\n",
       "  </tbody>\n",
       "</table>\n",
       "<p>5 rows × 21 columns</p>\n",
       "</div>"
      ],
      "text/plain": [
       "                  bill_number  session  \\\n",
       "58    senate        Bill S79A     2011   \n",
       "128  senate        Bill S149B     2011   \n",
       "154   senate        Bill S175     2011   \n",
       "156  senate        Bill S177A     2011   \n",
       "184   senate        Bill S205     2011   \n",
       "\n",
       "                                                   url  \\\n",
       "58   https://www.nysenate.gov/legislation/bills/201...   \n",
       "128  https://www.nysenate.gov/legislation/bills/201...   \n",
       "154  https://www.nysenate.gov/legislation/bills/201...   \n",
       "156  https://www.nysenate.gov/legislation/bills/201...   \n",
       "184  https://www.nysenate.gov/legislation/bills/201...   \n",
       "\n",
       "                                            bill_title       spon_sen_name  \\\n",
       "58   Authorizes the incorporation of benefit corpor...  Daniel L. Squadron   \n",
       "128  Relates to tax credits provided for solar ener...   George D. Maziarz   \n",
       "154  Prohibits state officers and employees from us...   George D. Maziarz   \n",
       "156  Reduces the required minimum age for obtaining...   George D. Maziarz   \n",
       "184  Authorizes a county, city, town or village to ...   George D. Maziarz   \n",
       "\n",
       "                     dist_name aye_vote nay_vote   dtg   dtg_date  ...  \\\n",
       "58   (D, WF) 0 Senate District       62        0  True 2011-11-30  ...   \n",
       "128      (R) 0 Senate District       60        0  True 2012-08-06  ...   \n",
       "154      (R) 0 Senate District       62        0  True 2011-09-12  ...   \n",
       "156      (R) 0 Senate District       53        7  True 2011-05-06  ...   \n",
       "184      (R) 0 Senate District       55        0  True 2011-04-15  ...   \n",
       "\n",
       "      lla_date            lla_action signed_by_gov   signed_date  \\\n",
       "58  2011-06-17    returned to senate          True  Dec 12, 2011   \n",
       "128 2012-06-20  returned to assembly          True  Aug 17, 2012   \n",
       "154 2011-06-21  returned to assembly          True  Sep 23, 2011   \n",
       "156 2011-05-03    returned to senate          True  May 17, 2011   \n",
       "184 2011-04-06  returned to assembly          True  Apr 27, 2011   \n",
       "\n",
       "    vetoed_by_gov  vetoed_date  \\\n",
       "58          False      no date   \n",
       "128         False      no date   \n",
       "154         False      no date   \n",
       "156         False      no date   \n",
       "184         False      no date   \n",
       "\n",
       "                                          sponser_memo  \\\n",
       "58   BILL NUMBER:S79\\n\\nTITLE OF BILL:\\nAn act\\nto ...   \n",
       "128  BILL NUMBER:S149\\n\\nTITLE OF BILL:\\nAn act\\nto...   \n",
       "154  BILL NUMBER:S175\\n\\nTITLE OF BILL:\\nAn act\\nto...   \n",
       "156  BILL NUMBER:S177\\n\\nTITLE OF BILL:  An act to ...   \n",
       "184  BILL NUMBER:S205\\n\\nTITLE OF BILL:\\nAn act\\nto...   \n",
       "\n",
       "                                         sponser_memo2  \\\n",
       "58   Section 2 of the bill amends the New York Corp...   \n",
       "128  feasible for the individual to lease the equip...   \n",
       "154  JUSTIFICATION:\\nWhile during working hours, it...   \n",
       "156                                                NaN   \n",
       "184  directed to be made and completed on or before...   \n",
       "\n",
       "                                             bill_text time_to_dtg  \n",
       "58   S79 - Bill Text\\n          \\ndownload pdf\\n\\n\\...    166 days  \n",
       "128  S149 - Bill Text\\n          \\ndownload pdf\\n\\n...     47 days  \n",
       "154  S175 (ACTIVE) - Bill Text\\n          \\ndownloa...     83 days  \n",
       "156  S177 - Bill Text\\n          \\ndownload pdf\\n\\n...      3 days  \n",
       "184  S205 (ACTIVE) - Bill Text\\n          \\ndownloa...      9 days  \n",
       "\n",
       "[5 rows x 21 columns]"
      ]
     },
     "execution_count": 41,
     "metadata": {},
     "output_type": "execute_result"
    }
   ],
   "source": [
    "df_dtg[df_dtg.signed_by_gov == True].head()"
   ]
  },
  {
   "cell_type": "code",
   "execution_count": 42,
   "metadata": {},
   "outputs": [
    {
     "data": {
      "text/plain": [
       "2494   293 days\n",
       "1809   285 days\n",
       "7104   282 days\n",
       "3114   282 days\n",
       "6651   282 days\n",
       "7293   281 days\n",
       "649    279 days\n",
       "2366   269 days\n",
       "3574   265 days\n",
       "3237   263 days\n",
       "3309   261 days\n",
       "6696   261 days\n",
       "6695   259 days\n",
       "2486   246 days\n",
       "4487   245 days\n",
       "490    244 days\n",
       "859    235 days\n",
       "4172   235 days\n",
       "2594   230 days\n",
       "3129   230 days\n",
       "Name: time_to_dtg, dtype: timedelta64[ns]"
      ]
     },
     "execution_count": 42,
     "metadata": {},
     "output_type": "execute_result"
    }
   ],
   "source": [
    "df_dtg[df_dtg.session == 2019].time_to_dtg.sort_values(ascending=False).head(20)"
   ]
  },
  {
   "cell_type": "code",
   "execution_count": 43,
   "metadata": {},
   "outputs": [
    {
     "data": {
      "text/html": [
       "<div>\n",
       "<style scoped>\n",
       "    .dataframe tbody tr th:only-of-type {\n",
       "        vertical-align: middle;\n",
       "    }\n",
       "\n",
       "    .dataframe tbody tr th {\n",
       "        vertical-align: top;\n",
       "    }\n",
       "\n",
       "    .dataframe thead th {\n",
       "        text-align: right;\n",
       "    }\n",
       "</style>\n",
       "<table border=\"1\" class=\"dataframe\">\n",
       "  <thead>\n",
       "    <tr style=\"text-align: right;\">\n",
       "      <th></th>\n",
       "      <th>bill_number</th>\n",
       "      <th>session</th>\n",
       "      <th>url</th>\n",
       "      <th>bill_title</th>\n",
       "      <th>spon_sen_name</th>\n",
       "      <th>dist_name</th>\n",
       "      <th>aye_vote</th>\n",
       "      <th>nay_vote</th>\n",
       "      <th>dtg</th>\n",
       "      <th>dtg_date</th>\n",
       "      <th>...</th>\n",
       "      <th>lla_date</th>\n",
       "      <th>lla_action</th>\n",
       "      <th>signed_by_gov</th>\n",
       "      <th>signed_date</th>\n",
       "      <th>vetoed_by_gov</th>\n",
       "      <th>vetoed_date</th>\n",
       "      <th>sponser_memo</th>\n",
       "      <th>sponser_memo2</th>\n",
       "      <th>bill_text</th>\n",
       "      <th>time_to_dtg</th>\n",
       "    </tr>\n",
       "  </thead>\n",
       "  <tbody>\n",
       "    <tr>\n",
       "      <th>7293</th>\n",
       "      <td>senate        Bill S7314A</td>\n",
       "      <td>2011</td>\n",
       "      <td>https://www.nysenate.gov/legislation/bills/201...</td>\n",
       "      <td>Relates to self-funded student health benefit ...</td>\n",
       "      <td>James L. Seward</td>\n",
       "      <td>(R, C, IP, RFM) 0 Senate District</td>\n",
       "      <td>60</td>\n",
       "      <td>0</td>\n",
       "      <td>True</td>\n",
       "      <td>2012-07-06</td>\n",
       "      <td>...</td>\n",
       "      <td>2012-06-20</td>\n",
       "      <td>returned to senate</td>\n",
       "      <td>True</td>\n",
       "      <td>Jul 18, 2012</td>\n",
       "      <td>False</td>\n",
       "      <td>no date</td>\n",
       "      <td>BILL NUMBER:S7314\\n\\nTITLE OF BILL:\\nAn act\\nt...</td>\n",
       "      <td>section.\\n\\nSection 8004 requires colleges and...</td>\n",
       "      <td>S7314 - Bill Text\\n          \\ndownload pdf\\n\\...</td>\n",
       "      <td>16 days</td>\n",
       "    </tr>\n",
       "    <tr>\n",
       "      <th>7293</th>\n",
       "      <td>senate        Bill S7313</td>\n",
       "      <td>2013</td>\n",
       "      <td>https://www.nysenate.gov/legislation/bills/201...</td>\n",
       "      <td>Extends certain provisions authorizing the imp...</td>\n",
       "      <td>Jeffrey D. Klein</td>\n",
       "      <td>(D) 0 Senate District</td>\n",
       "      <td>58</td>\n",
       "      <td>0</td>\n",
       "      <td>True</td>\n",
       "      <td>2014-07-11</td>\n",
       "      <td>...</td>\n",
       "      <td>2014-06-10</td>\n",
       "      <td>returned to assembly</td>\n",
       "      <td>True</td>\n",
       "      <td>Jul 22, 2014</td>\n",
       "      <td>False</td>\n",
       "      <td>no date</td>\n",
       "      <td>BILL NUMBER:S7313\\n\\nTITLE OF BILL:  An act to...</td>\n",
       "      <td>FISCAL IMPLICATIONS: None.\\n\\nEFFECTIVE DATE: ...</td>\n",
       "      <td>S7313 (ACTIVE) - Bill Text\\n          \\ndownlo...</td>\n",
       "      <td>31 days</td>\n",
       "    </tr>\n",
       "    <tr>\n",
       "      <th>7293</th>\n",
       "      <td>senate        Bill S7310</td>\n",
       "      <td>2017</td>\n",
       "      <td>https://www.nysenate.gov/legislation/bills/201...</td>\n",
       "      <td>Relates to the frequency of inspections of art...</td>\n",
       "      <td>Jose Peralta</td>\n",
       "      <td>(D, WF) 0 Senate District</td>\n",
       "      <td>61</td>\n",
       "      <td>0</td>\n",
       "      <td>True</td>\n",
       "      <td>2018-04-06</td>\n",
       "      <td>...</td>\n",
       "      <td>2018-02-12</td>\n",
       "      <td>returned to senate</td>\n",
       "      <td>True</td>\n",
       "      <td>Apr 18, 2018</td>\n",
       "      <td>False</td>\n",
       "      <td>no date</td>\n",
       "      <td>BILL NUMBER: S7310\\n\\nSPONSOR: PERALTA\\n \\nTIT...</td>\n",
       "      <td>EXISTING LAW:\\n\\nCurrently, General Business L...</td>\n",
       "      <td>S7310 (ACTIVE) - Bill Text\\n          \\ndownlo...</td>\n",
       "      <td>53 days</td>\n",
       "    </tr>\n",
       "    <tr>\n",
       "      <th>7293</th>\n",
       "      <td>senate        Bill S7304</td>\n",
       "      <td>2019</td>\n",
       "      <td>https://www.nysenate.gov/legislation/bills/201...</td>\n",
       "      <td>Relates to membership on the public health and...</td>\n",
       "      <td>Brad Hoylman</td>\n",
       "      <td>(D, WF) 27th Senate District</td>\n",
       "      <td>45</td>\n",
       "      <td>15</td>\n",
       "      <td>True</td>\n",
       "      <td>2020-12-03</td>\n",
       "      <td>...</td>\n",
       "      <td>2020-02-26</td>\n",
       "      <td>returned to assembly</td>\n",
       "      <td>True</td>\n",
       "      <td>Dec 15, 2020</td>\n",
       "      <td>False</td>\n",
       "      <td>no date</td>\n",
       "      <td>BILL NUMBER: S7304\\n\\nSPONSOR: HOYLMAN\\n \\nTIT...</td>\n",
       "      <td>JUSTIFICATION:\\n\\nThe Public Health and Health...</td>\n",
       "      <td>S7304 (ACTIVE) - Bill Text\\n          \\ndownlo...</td>\n",
       "      <td>281 days</td>\n",
       "    </tr>\n",
       "  </tbody>\n",
       "</table>\n",
       "<p>4 rows × 21 columns</p>\n",
       "</div>"
      ],
      "text/plain": [
       "                    bill_number  session  \\\n",
       "7293  senate        Bill S7314A     2011   \n",
       "7293   senate        Bill S7313     2013   \n",
       "7293   senate        Bill S7310     2017   \n",
       "7293   senate        Bill S7304     2019   \n",
       "\n",
       "                                                    url  \\\n",
       "7293  https://www.nysenate.gov/legislation/bills/201...   \n",
       "7293  https://www.nysenate.gov/legislation/bills/201...   \n",
       "7293  https://www.nysenate.gov/legislation/bills/201...   \n",
       "7293  https://www.nysenate.gov/legislation/bills/201...   \n",
       "\n",
       "                                             bill_title     spon_sen_name  \\\n",
       "7293  Relates to self-funded student health benefit ...   James L. Seward   \n",
       "7293  Extends certain provisions authorizing the imp...  Jeffrey D. Klein   \n",
       "7293  Relates to the frequency of inspections of art...      Jose Peralta   \n",
       "7293  Relates to membership on the public health and...      Brad Hoylman   \n",
       "\n",
       "                              dist_name aye_vote nay_vote   dtg   dtg_date  \\\n",
       "7293  (R, C, IP, RFM) 0 Senate District       60        0  True 2012-07-06   \n",
       "7293              (D) 0 Senate District       58        0  True 2014-07-11   \n",
       "7293          (D, WF) 0 Senate District       61        0  True 2018-04-06   \n",
       "7293       (D, WF) 27th Senate District       45       15  True 2020-12-03   \n",
       "\n",
       "      ...   lla_date            lla_action signed_by_gov   signed_date  \\\n",
       "7293  ... 2012-06-20    returned to senate          True  Jul 18, 2012   \n",
       "7293  ... 2014-06-10  returned to assembly          True  Jul 22, 2014   \n",
       "7293  ... 2018-02-12    returned to senate          True  Apr 18, 2018   \n",
       "7293  ... 2020-02-26  returned to assembly          True  Dec 15, 2020   \n",
       "\n",
       "     vetoed_by_gov  vetoed_date  \\\n",
       "7293         False      no date   \n",
       "7293         False      no date   \n",
       "7293         False      no date   \n",
       "7293         False      no date   \n",
       "\n",
       "                                           sponser_memo  \\\n",
       "7293  BILL NUMBER:S7314\\n\\nTITLE OF BILL:\\nAn act\\nt...   \n",
       "7293  BILL NUMBER:S7313\\n\\nTITLE OF BILL:  An act to...   \n",
       "7293  BILL NUMBER: S7310\\n\\nSPONSOR: PERALTA\\n \\nTIT...   \n",
       "7293  BILL NUMBER: S7304\\n\\nSPONSOR: HOYLMAN\\n \\nTIT...   \n",
       "\n",
       "                                          sponser_memo2  \\\n",
       "7293  section.\\n\\nSection 8004 requires colleges and...   \n",
       "7293  FISCAL IMPLICATIONS: None.\\n\\nEFFECTIVE DATE: ...   \n",
       "7293  EXISTING LAW:\\n\\nCurrently, General Business L...   \n",
       "7293  JUSTIFICATION:\\n\\nThe Public Health and Health...   \n",
       "\n",
       "                                              bill_text time_to_dtg  \n",
       "7293  S7314 - Bill Text\\n          \\ndownload pdf\\n\\...     16 days  \n",
       "7293  S7313 (ACTIVE) - Bill Text\\n          \\ndownlo...     31 days  \n",
       "7293  S7310 (ACTIVE) - Bill Text\\n          \\ndownlo...     53 days  \n",
       "7293  S7304 (ACTIVE) - Bill Text\\n          \\ndownlo...    281 days  \n",
       "\n",
       "[4 rows x 21 columns]"
      ]
     },
     "execution_count": 43,
     "metadata": {},
     "output_type": "execute_result"
    }
   ],
   "source": [
    "## https://www.nysenate.gov/legislation/bills/2019/s6662 ##\n",
    "\n",
    "df_dtg.loc[[7293]]"
   ]
  },
  {
   "cell_type": "code",
   "execution_count": 44,
   "metadata": {},
   "outputs": [
    {
     "data": {
      "text/html": [
       "<div>\n",
       "<style scoped>\n",
       "    .dataframe tbody tr th:only-of-type {\n",
       "        vertical-align: middle;\n",
       "    }\n",
       "\n",
       "    .dataframe tbody tr th {\n",
       "        vertical-align: top;\n",
       "    }\n",
       "\n",
       "    .dataframe thead th {\n",
       "        text-align: right;\n",
       "    }\n",
       "</style>\n",
       "<table border=\"1\" class=\"dataframe\">\n",
       "  <thead>\n",
       "    <tr style=\"text-align: right;\">\n",
       "      <th></th>\n",
       "      <th>bill_number</th>\n",
       "      <th>session</th>\n",
       "      <th>url</th>\n",
       "      <th>bill_title</th>\n",
       "      <th>spon_sen_name</th>\n",
       "      <th>dist_name</th>\n",
       "      <th>aye_vote</th>\n",
       "      <th>nay_vote</th>\n",
       "      <th>dtg</th>\n",
       "      <th>dtg_date</th>\n",
       "      <th>...</th>\n",
       "      <th>lla_date</th>\n",
       "      <th>lla_action</th>\n",
       "      <th>signed_by_gov</th>\n",
       "      <th>signed_date</th>\n",
       "      <th>vetoed_by_gov</th>\n",
       "      <th>vetoed_date</th>\n",
       "      <th>sponser_memo</th>\n",
       "      <th>sponser_memo2</th>\n",
       "      <th>bill_text</th>\n",
       "      <th>time_to_dtg</th>\n",
       "    </tr>\n",
       "  </thead>\n",
       "  <tbody>\n",
       "    <tr>\n",
       "      <th>6651</th>\n",
       "      <td>senate        Bill S6662</td>\n",
       "      <td>2019</td>\n",
       "      <td>https://www.nysenate.gov/legislation/bills/201...</td>\n",
       "      <td>Requires the department of health of the state...</td>\n",
       "      <td>Brian A. Benjamin</td>\n",
       "      <td>(D) 30th Senate District</td>\n",
       "      <td>62</td>\n",
       "      <td>0</td>\n",
       "      <td>True</td>\n",
       "      <td>2020-12-11</td>\n",
       "      <td>...</td>\n",
       "      <td>2020-03-04</td>\n",
       "      <td>returned to assembly</td>\n",
       "      <td>True</td>\n",
       "      <td>Dec 23, 2020</td>\n",
       "      <td>False</td>\n",
       "      <td>no date</td>\n",
       "      <td>BILL NUMBER: S6662\\n\\nSPONSOR: BENJAMIN\\n \\nTI...</td>\n",
       "      <td>SUMMARY OF PROVISIONS:\\n\\nThe public health la...</td>\n",
       "      <td>S6662 (ACTIVE) - Bill Text\\n          \\ndownlo...</td>\n",
       "      <td>282 days</td>\n",
       "    </tr>\n",
       "  </tbody>\n",
       "</table>\n",
       "<p>1 rows × 21 columns</p>\n",
       "</div>"
      ],
      "text/plain": [
       "                   bill_number  session  \\\n",
       "6651  senate        Bill S6662     2019   \n",
       "\n",
       "                                                    url  \\\n",
       "6651  https://www.nysenate.gov/legislation/bills/201...   \n",
       "\n",
       "                                             bill_title      spon_sen_name  \\\n",
       "6651  Requires the department of health of the state...  Brian A. Benjamin   \n",
       "\n",
       "                     dist_name aye_vote nay_vote   dtg   dtg_date  ...  \\\n",
       "6651  (D) 30th Senate District       62        0  True 2020-12-11  ...   \n",
       "\n",
       "       lla_date            lla_action signed_by_gov   signed_date  \\\n",
       "6651 2020-03-04  returned to assembly          True  Dec 23, 2020   \n",
       "\n",
       "     vetoed_by_gov  vetoed_date  \\\n",
       "6651         False      no date   \n",
       "\n",
       "                                           sponser_memo  \\\n",
       "6651  BILL NUMBER: S6662\\n\\nSPONSOR: BENJAMIN\\n \\nTI...   \n",
       "\n",
       "                                          sponser_memo2  \\\n",
       "6651  SUMMARY OF PROVISIONS:\\n\\nThe public health la...   \n",
       "\n",
       "                                              bill_text time_to_dtg  \n",
       "6651  S6662 (ACTIVE) - Bill Text\\n          \\ndownlo...    282 days  \n",
       "\n",
       "[1 rows x 21 columns]"
      ]
     },
     "execution_count": 44,
     "metadata": {},
     "output_type": "execute_result"
    }
   ],
   "source": [
    "## https://www.nysenate.gov/legislation/bills/2019/s6662 ##\n",
    "\n",
    "df_dtg.loc[[6651]]"
   ]
  },
  {
   "cell_type": "code",
   "execution_count": 45,
   "metadata": {},
   "outputs": [
    {
     "data": {
      "text/html": [
       "<div>\n",
       "<style scoped>\n",
       "    .dataframe tbody tr th:only-of-type {\n",
       "        vertical-align: middle;\n",
       "    }\n",
       "\n",
       "    .dataframe tbody tr th {\n",
       "        vertical-align: top;\n",
       "    }\n",
       "\n",
       "    .dataframe thead th {\n",
       "        text-align: right;\n",
       "    }\n",
       "</style>\n",
       "<table border=\"1\" class=\"dataframe\">\n",
       "  <thead>\n",
       "    <tr style=\"text-align: right;\">\n",
       "      <th></th>\n",
       "      <th>bill_number</th>\n",
       "      <th>session</th>\n",
       "      <th>url</th>\n",
       "      <th>bill_title</th>\n",
       "      <th>spon_sen_name</th>\n",
       "      <th>dist_name</th>\n",
       "      <th>aye_vote</th>\n",
       "      <th>nay_vote</th>\n",
       "      <th>dtg</th>\n",
       "      <th>dtg_date</th>\n",
       "      <th>...</th>\n",
       "      <th>lla_date</th>\n",
       "      <th>lla_action</th>\n",
       "      <th>signed_by_gov</th>\n",
       "      <th>signed_date</th>\n",
       "      <th>vetoed_by_gov</th>\n",
       "      <th>vetoed_date</th>\n",
       "      <th>sponser_memo</th>\n",
       "      <th>sponser_memo2</th>\n",
       "      <th>bill_text</th>\n",
       "      <th>time_to_dtg</th>\n",
       "    </tr>\n",
       "  </thead>\n",
       "  <tbody>\n",
       "    <tr>\n",
       "      <th>3114</th>\n",
       "      <td>senate        Bill S3125</td>\n",
       "      <td>2019</td>\n",
       "      <td>https://www.nysenate.gov/legislation/bills/201...</td>\n",
       "      <td>Requires feminine hygiene products to be offer...</td>\n",
       "      <td>Alessandra Biaggi</td>\n",
       "      <td>(D, WF) 34th Senate District</td>\n",
       "      <td>62</td>\n",
       "      <td>0</td>\n",
       "      <td>True</td>\n",
       "      <td>2019-12-06</td>\n",
       "      <td>...</td>\n",
       "      <td>2019-02-27</td>\n",
       "      <td>returned to assembly</td>\n",
       "      <td>False</td>\n",
       "      <td>no date</td>\n",
       "      <td>True</td>\n",
       "      <td>Dec 13, 2019</td>\n",
       "      <td>BILL NUMBER: S3125\\n\\nSPONSOR: BIAGGI\\n \\nTITL...</td>\n",
       "      <td>public schools, for students in grades 6-12. T...</td>\n",
       "      <td>S3125 (ACTIVE) - Bill Text\\n          \\ndownlo...</td>\n",
       "      <td>282 days</td>\n",
       "    </tr>\n",
       "  </tbody>\n",
       "</table>\n",
       "<p>1 rows × 21 columns</p>\n",
       "</div>"
      ],
      "text/plain": [
       "                   bill_number  session  \\\n",
       "3114  senate        Bill S3125     2019   \n",
       "\n",
       "                                                    url  \\\n",
       "3114  https://www.nysenate.gov/legislation/bills/201...   \n",
       "\n",
       "                                             bill_title      spon_sen_name  \\\n",
       "3114  Requires feminine hygiene products to be offer...  Alessandra Biaggi   \n",
       "\n",
       "                         dist_name aye_vote nay_vote   dtg   dtg_date  ...  \\\n",
       "3114  (D, WF) 34th Senate District       62        0  True 2019-12-06  ...   \n",
       "\n",
       "       lla_date            lla_action signed_by_gov  signed_date  \\\n",
       "3114 2019-02-27  returned to assembly         False      no date   \n",
       "\n",
       "     vetoed_by_gov   vetoed_date  \\\n",
       "3114          True  Dec 13, 2019   \n",
       "\n",
       "                                           sponser_memo  \\\n",
       "3114  BILL NUMBER: S3125\\n\\nSPONSOR: BIAGGI\\n \\nTITL...   \n",
       "\n",
       "                                          sponser_memo2  \\\n",
       "3114  public schools, for students in grades 6-12. T...   \n",
       "\n",
       "                                              bill_text time_to_dtg  \n",
       "3114  S3125 (ACTIVE) - Bill Text\\n          \\ndownlo...    282 days  \n",
       "\n",
       "[1 rows x 21 columns]"
      ]
     },
     "execution_count": 45,
     "metadata": {},
     "output_type": "execute_result"
    }
   ],
   "source": [
    "## https://www.nysenate.gov/legislation/bills/2019/s3125 ##\n",
    "\n",
    "df_dtg.loc[[3114]]"
   ]
  },
  {
   "cell_type": "code",
   "execution_count": 46,
   "metadata": {},
   "outputs": [
    {
     "data": {
      "text/html": [
       "<div>\n",
       "<style scoped>\n",
       "    .dataframe tbody tr th:only-of-type {\n",
       "        vertical-align: middle;\n",
       "    }\n",
       "\n",
       "    .dataframe tbody tr th {\n",
       "        vertical-align: top;\n",
       "    }\n",
       "\n",
       "    .dataframe thead th {\n",
       "        text-align: right;\n",
       "    }\n",
       "</style>\n",
       "<table border=\"1\" class=\"dataframe\">\n",
       "  <thead>\n",
       "    <tr style=\"text-align: right;\">\n",
       "      <th></th>\n",
       "      <th>bill_number</th>\n",
       "      <th>session</th>\n",
       "      <th>url</th>\n",
       "      <th>bill_title</th>\n",
       "      <th>spon_sen_name</th>\n",
       "      <th>dist_name</th>\n",
       "      <th>aye_vote</th>\n",
       "      <th>nay_vote</th>\n",
       "      <th>dtg</th>\n",
       "      <th>dtg_date</th>\n",
       "      <th>...</th>\n",
       "      <th>lla_date</th>\n",
       "      <th>lla_action</th>\n",
       "      <th>signed_by_gov</th>\n",
       "      <th>signed_date</th>\n",
       "      <th>vetoed_by_gov</th>\n",
       "      <th>vetoed_date</th>\n",
       "      <th>sponser_memo</th>\n",
       "      <th>sponser_memo2</th>\n",
       "      <th>bill_text</th>\n",
       "      <th>time_to_dtg</th>\n",
       "    </tr>\n",
       "  </thead>\n",
       "  <tbody>\n",
       "    <tr>\n",
       "      <th>7104</th>\n",
       "      <td>senate        Bill S7125</td>\n",
       "      <td>2011</td>\n",
       "      <td>https://www.nysenate.gov/legislation/bills/201...</td>\n",
       "      <td>Relates to the definition of \"stallion\" for th...</td>\n",
       "      <td>Roy J. McDonald</td>\n",
       "      <td>(R, C, IP) 0 Senate District</td>\n",
       "      <td>60</td>\n",
       "      <td>0</td>\n",
       "      <td>True</td>\n",
       "      <td>2012-07-20</td>\n",
       "      <td>...</td>\n",
       "      <td>2012-06-21</td>\n",
       "      <td>returned to assembly</td>\n",
       "      <td>True</td>\n",
       "      <td>Aug 01, 2012</td>\n",
       "      <td>False</td>\n",
       "      <td>no date</td>\n",
       "      <td>BILL NUMBER:S7125\\n\\nTITLE OF BILL:\\nAn act\\nt...</td>\n",
       "      <td>the minimum lease period to one year is expect...</td>\n",
       "      <td>S7125 (ACTIVE) - Bill Text\\n          \\ndownlo...</td>\n",
       "      <td>29 days</td>\n",
       "    </tr>\n",
       "    <tr>\n",
       "      <th>7104</th>\n",
       "      <td>senate        Bill S7115</td>\n",
       "      <td>2019</td>\n",
       "      <td>https://www.nysenate.gov/legislation/bills/201...</td>\n",
       "      <td>Relates to the dispensing of partially filled ...</td>\n",
       "      <td>Gustavo Rivera</td>\n",
       "      <td>(D, WF) 33rd Senate District</td>\n",
       "      <td>61</td>\n",
       "      <td>0</td>\n",
       "      <td>True</td>\n",
       "      <td>2020-12-03</td>\n",
       "      <td>...</td>\n",
       "      <td>2020-02-25</td>\n",
       "      <td>returned to senate</td>\n",
       "      <td>False</td>\n",
       "      <td>no date</td>\n",
       "      <td>True</td>\n",
       "      <td>Dec 15, 2020</td>\n",
       "      <td>BILL NUMBER: S7115\\n\\nSPONSOR: RIVERA\\n \\nTITL...</td>\n",
       "      <td>6816 of the Education Law by adding a referenc...</td>\n",
       "      <td>S7115 (ACTIVE) - Bill Text\\n          \\ndownlo...</td>\n",
       "      <td>282 days</td>\n",
       "    </tr>\n",
       "  </tbody>\n",
       "</table>\n",
       "<p>2 rows × 21 columns</p>\n",
       "</div>"
      ],
      "text/plain": [
       "                   bill_number  session  \\\n",
       "7104  senate        Bill S7125     2011   \n",
       "7104  senate        Bill S7115     2019   \n",
       "\n",
       "                                                    url  \\\n",
       "7104  https://www.nysenate.gov/legislation/bills/201...   \n",
       "7104  https://www.nysenate.gov/legislation/bills/201...   \n",
       "\n",
       "                                             bill_title    spon_sen_name  \\\n",
       "7104  Relates to the definition of \"stallion\" for th...  Roy J. McDonald   \n",
       "7104  Relates to the dispensing of partially filled ...   Gustavo Rivera   \n",
       "\n",
       "                         dist_name aye_vote nay_vote   dtg   dtg_date  ...  \\\n",
       "7104  (R, C, IP) 0 Senate District       60        0  True 2012-07-20  ...   \n",
       "7104  (D, WF) 33rd Senate District       61        0  True 2020-12-03  ...   \n",
       "\n",
       "       lla_date            lla_action signed_by_gov   signed_date  \\\n",
       "7104 2012-06-21  returned to assembly          True  Aug 01, 2012   \n",
       "7104 2020-02-25    returned to senate         False       no date   \n",
       "\n",
       "     vetoed_by_gov   vetoed_date  \\\n",
       "7104         False       no date   \n",
       "7104          True  Dec 15, 2020   \n",
       "\n",
       "                                           sponser_memo  \\\n",
       "7104  BILL NUMBER:S7125\\n\\nTITLE OF BILL:\\nAn act\\nt...   \n",
       "7104  BILL NUMBER: S7115\\n\\nSPONSOR: RIVERA\\n \\nTITL...   \n",
       "\n",
       "                                          sponser_memo2  \\\n",
       "7104  the minimum lease period to one year is expect...   \n",
       "7104  6816 of the Education Law by adding a referenc...   \n",
       "\n",
       "                                              bill_text time_to_dtg  \n",
       "7104  S7125 (ACTIVE) - Bill Text\\n          \\ndownlo...     29 days  \n",
       "7104  S7115 (ACTIVE) - Bill Text\\n          \\ndownlo...    282 days  \n",
       "\n",
       "[2 rows x 21 columns]"
      ]
     },
     "execution_count": 46,
     "metadata": {},
     "output_type": "execute_result"
    }
   ],
   "source": [
    "## https://www.nysenate.gov/legislation/bills/2019/s7155\n",
    "\n",
    "df_dtg.loc[[7104]]"
   ]
  },
  {
   "cell_type": "code",
   "execution_count": null,
   "metadata": {},
   "outputs": [],
   "source": []
  },
  {
   "cell_type": "markdown",
   "metadata": {},
   "source": [
    "### Check to see if 'amendment' is in the URL"
   ]
  },
  {
   "cell_type": "code",
   "execution_count": 47,
   "metadata": {},
   "outputs": [
    {
     "data": {
      "text/html": [
       "<div>\n",
       "<style scoped>\n",
       "    .dataframe tbody tr th:only-of-type {\n",
       "        vertical-align: middle;\n",
       "    }\n",
       "\n",
       "    .dataframe tbody tr th {\n",
       "        vertical-align: top;\n",
       "    }\n",
       "\n",
       "    .dataframe thead th {\n",
       "        text-align: right;\n",
       "    }\n",
       "</style>\n",
       "<table border=\"1\" class=\"dataframe\">\n",
       "  <thead>\n",
       "    <tr style=\"text-align: right;\">\n",
       "      <th></th>\n",
       "      <th>bill_number</th>\n",
       "      <th>session</th>\n",
       "      <th>url</th>\n",
       "      <th>bill_title</th>\n",
       "      <th>spon_sen_name</th>\n",
       "      <th>dist_name</th>\n",
       "      <th>aye_vote</th>\n",
       "      <th>nay_vote</th>\n",
       "      <th>dtg</th>\n",
       "      <th>dtg_date</th>\n",
       "      <th>...</th>\n",
       "      <th>lla_date</th>\n",
       "      <th>lla_action</th>\n",
       "      <th>signed_by_gov</th>\n",
       "      <th>signed_date</th>\n",
       "      <th>vetoed_by_gov</th>\n",
       "      <th>vetoed_date</th>\n",
       "      <th>sponser_memo</th>\n",
       "      <th>sponser_memo2</th>\n",
       "      <th>bill_text</th>\n",
       "      <th>time_to_dtg</th>\n",
       "    </tr>\n",
       "  </thead>\n",
       "  <tbody>\n",
       "    <tr>\n",
       "      <th>58</th>\n",
       "      <td>senate        Bill S79A</td>\n",
       "      <td>2011</td>\n",
       "      <td>https://www.nysenate.gov/legislation/bills/201...</td>\n",
       "      <td>Authorizes the incorporation of benefit corpor...</td>\n",
       "      <td>Daniel L. Squadron</td>\n",
       "      <td>(D, WF) 0 Senate District</td>\n",
       "      <td>62</td>\n",
       "      <td>0</td>\n",
       "      <td>True</td>\n",
       "      <td>2011-11-30</td>\n",
       "      <td>...</td>\n",
       "      <td>2011-06-17</td>\n",
       "      <td>returned to senate</td>\n",
       "      <td>True</td>\n",
       "      <td>Dec 12, 2011</td>\n",
       "      <td>False</td>\n",
       "      <td>no date</td>\n",
       "      <td>BILL NUMBER:S79\\n\\nTITLE OF BILL:\\nAn act\\nto ...</td>\n",
       "      <td>Section 2 of the bill amends the New York Corp...</td>\n",
       "      <td>S79 - Bill Text\\n          \\ndownload pdf\\n\\n\\...</td>\n",
       "      <td>166 days</td>\n",
       "    </tr>\n",
       "    <tr>\n",
       "      <th>128</th>\n",
       "      <td>senate        Bill S149B</td>\n",
       "      <td>2011</td>\n",
       "      <td>https://www.nysenate.gov/legislation/bills/201...</td>\n",
       "      <td>Relates to tax credits provided for solar ener...</td>\n",
       "      <td>George D. Maziarz</td>\n",
       "      <td>(R) 0 Senate District</td>\n",
       "      <td>60</td>\n",
       "      <td>0</td>\n",
       "      <td>True</td>\n",
       "      <td>2012-08-06</td>\n",
       "      <td>...</td>\n",
       "      <td>2012-06-20</td>\n",
       "      <td>returned to assembly</td>\n",
       "      <td>True</td>\n",
       "      <td>Aug 17, 2012</td>\n",
       "      <td>False</td>\n",
       "      <td>no date</td>\n",
       "      <td>BILL NUMBER:S149\\n\\nTITLE OF BILL:\\nAn act\\nto...</td>\n",
       "      <td>feasible for the individual to lease the equip...</td>\n",
       "      <td>S149 - Bill Text\\n          \\ndownload pdf\\n\\n...</td>\n",
       "      <td>47 days</td>\n",
       "    </tr>\n",
       "    <tr>\n",
       "      <th>154</th>\n",
       "      <td>senate        Bill S175</td>\n",
       "      <td>2011</td>\n",
       "      <td>https://www.nysenate.gov/legislation/bills/201...</td>\n",
       "      <td>Prohibits state officers and employees from us...</td>\n",
       "      <td>George D. Maziarz</td>\n",
       "      <td>(R) 0 Senate District</td>\n",
       "      <td>62</td>\n",
       "      <td>0</td>\n",
       "      <td>True</td>\n",
       "      <td>2011-09-12</td>\n",
       "      <td>...</td>\n",
       "      <td>2011-06-21</td>\n",
       "      <td>returned to assembly</td>\n",
       "      <td>True</td>\n",
       "      <td>Sep 23, 2011</td>\n",
       "      <td>False</td>\n",
       "      <td>no date</td>\n",
       "      <td>BILL NUMBER:S175\\n\\nTITLE OF BILL:\\nAn act\\nto...</td>\n",
       "      <td>JUSTIFICATION:\\nWhile during working hours, it...</td>\n",
       "      <td>S175 (ACTIVE) - Bill Text\\n          \\ndownloa...</td>\n",
       "      <td>83 days</td>\n",
       "    </tr>\n",
       "    <tr>\n",
       "      <th>156</th>\n",
       "      <td>senate        Bill S177A</td>\n",
       "      <td>2011</td>\n",
       "      <td>https://www.nysenate.gov/legislation/bills/201...</td>\n",
       "      <td>Reduces the required minimum age for obtaining...</td>\n",
       "      <td>George D. Maziarz</td>\n",
       "      <td>(R) 0 Senate District</td>\n",
       "      <td>53</td>\n",
       "      <td>7</td>\n",
       "      <td>True</td>\n",
       "      <td>2011-05-06</td>\n",
       "      <td>...</td>\n",
       "      <td>2011-05-03</td>\n",
       "      <td>returned to senate</td>\n",
       "      <td>True</td>\n",
       "      <td>May 17, 2011</td>\n",
       "      <td>False</td>\n",
       "      <td>no date</td>\n",
       "      <td>BILL NUMBER:S177\\n\\nTITLE OF BILL:  An act to ...</td>\n",
       "      <td>NaN</td>\n",
       "      <td>S177 - Bill Text\\n          \\ndownload pdf\\n\\n...</td>\n",
       "      <td>3 days</td>\n",
       "    </tr>\n",
       "    <tr>\n",
       "      <th>184</th>\n",
       "      <td>senate        Bill S205</td>\n",
       "      <td>2011</td>\n",
       "      <td>https://www.nysenate.gov/legislation/bills/201...</td>\n",
       "      <td>Authorizes a county, city, town or village to ...</td>\n",
       "      <td>George D. Maziarz</td>\n",
       "      <td>(R) 0 Senate District</td>\n",
       "      <td>55</td>\n",
       "      <td>0</td>\n",
       "      <td>True</td>\n",
       "      <td>2011-04-15</td>\n",
       "      <td>...</td>\n",
       "      <td>2011-04-06</td>\n",
       "      <td>returned to assembly</td>\n",
       "      <td>True</td>\n",
       "      <td>Apr 27, 2011</td>\n",
       "      <td>False</td>\n",
       "      <td>no date</td>\n",
       "      <td>BILL NUMBER:S205\\n\\nTITLE OF BILL:\\nAn act\\nto...</td>\n",
       "      <td>directed to be made and completed on or before...</td>\n",
       "      <td>S205 (ACTIVE) - Bill Text\\n          \\ndownloa...</td>\n",
       "      <td>9 days</td>\n",
       "    </tr>\n",
       "    <tr>\n",
       "      <th>...</th>\n",
       "      <td>...</td>\n",
       "      <td>...</td>\n",
       "      <td>...</td>\n",
       "      <td>...</td>\n",
       "      <td>...</td>\n",
       "      <td>...</td>\n",
       "      <td>...</td>\n",
       "      <td>...</td>\n",
       "      <td>...</td>\n",
       "      <td>...</td>\n",
       "      <td>...</td>\n",
       "      <td>...</td>\n",
       "      <td>...</td>\n",
       "      <td>...</td>\n",
       "      <td>...</td>\n",
       "      <td>...</td>\n",
       "      <td>...</td>\n",
       "      <td>...</td>\n",
       "      <td>...</td>\n",
       "      <td>...</td>\n",
       "      <td>...</td>\n",
       "    </tr>\n",
       "    <tr>\n",
       "      <th>8820</th>\n",
       "      <td>senate        Bill S8831</td>\n",
       "      <td>2019</td>\n",
       "      <td>https://www.nysenate.gov/legislation/bills/201...</td>\n",
       "      <td>Requires judges who recuse themselves to provi...</td>\n",
       "      <td>Todd Kaminsky</td>\n",
       "      <td>(D) 9th Senate District</td>\n",
       "      <td>43</td>\n",
       "      <td>17</td>\n",
       "      <td>True</td>\n",
       "      <td>2020-12-11</td>\n",
       "      <td>...</td>\n",
       "      <td>2020-07-23</td>\n",
       "      <td>returned to senate</td>\n",
       "      <td>True</td>\n",
       "      <td>Dec 23, 2020</td>\n",
       "      <td>False</td>\n",
       "      <td>no date</td>\n",
       "      <td>BILL NUMBER: S8831\\n\\nSPONSOR: KAMINSKY\\n \\nTI...</td>\n",
       "      <td>JUSTIFICATION:\\n\\nJudicial recusal is an impor...</td>\n",
       "      <td>S8831 (ACTIVE) - Bill Text\\n          \\ndownlo...</td>\n",
       "      <td>141 days</td>\n",
       "    </tr>\n",
       "    <tr>\n",
       "      <th>8821</th>\n",
       "      <td>senate        Bill S8832</td>\n",
       "      <td>2019</td>\n",
       "      <td>https://www.nysenate.gov/legislation/bills/201...</td>\n",
       "      <td>Relates to the use of an electronic signature ...</td>\n",
       "      <td>John C. Liu</td>\n",
       "      <td>(D) 11th Senate District</td>\n",
       "      <td>57</td>\n",
       "      <td>3</td>\n",
       "      <td>True</td>\n",
       "      <td>2020-08-12</td>\n",
       "      <td>...</td>\n",
       "      <td>2020-07-23</td>\n",
       "      <td>returned to senate</td>\n",
       "      <td>True</td>\n",
       "      <td>Aug 24, 2020</td>\n",
       "      <td>False</td>\n",
       "      <td>no date</td>\n",
       "      <td>BILL NUMBER: S8832\\n\\nSPONSOR: LIU\\n \\nTITLE O...</td>\n",
       "      <td>However, tax preparers filing a NYS tax return...</td>\n",
       "      <td>S8832 (ACTIVE) - Bill Text\\n          \\ndownlo...</td>\n",
       "      <td>20 days</td>\n",
       "    </tr>\n",
       "    <tr>\n",
       "      <th>8823</th>\n",
       "      <td>senate        Bill S8834</td>\n",
       "      <td>2019</td>\n",
       "      <td>https://www.nysenate.gov/legislation/bills/201...</td>\n",
       "      <td>Authorizes former foster care youth to re-ente...</td>\n",
       "      <td>Velmanette Montgomery</td>\n",
       "      <td>(D) 0 Senate District</td>\n",
       "      <td>60</td>\n",
       "      <td>0</td>\n",
       "      <td>True</td>\n",
       "      <td>2020-12-03</td>\n",
       "      <td>...</td>\n",
       "      <td>2020-07-23</td>\n",
       "      <td>returned to senate</td>\n",
       "      <td>True</td>\n",
       "      <td>Dec 15, 2020</td>\n",
       "      <td>False</td>\n",
       "      <td>no date</td>\n",
       "      <td>BILL NUMBER: S8834\\n\\nSPONSOR: MONTGOMERY\\n \\n...</td>\n",
       "      <td>social services department would be required t...</td>\n",
       "      <td>S8834 (ACTIVE) - Bill Text\\n          \\ndownlo...</td>\n",
       "      <td>133 days</td>\n",
       "    </tr>\n",
       "    <tr>\n",
       "      <th>8824</th>\n",
       "      <td>senate        Bill S8835</td>\n",
       "      <td>2019</td>\n",
       "      <td>https://www.nysenate.gov/legislation/bills/201...</td>\n",
       "      <td>Relates to amending provisions regarding healt...</td>\n",
       "      <td>Luis R. Sepúlveda</td>\n",
       "      <td>(D) 32nd Senate District</td>\n",
       "      <td>45</td>\n",
       "      <td>15</td>\n",
       "      <td>True</td>\n",
       "      <td>2020-07-24</td>\n",
       "      <td>...</td>\n",
       "      <td>2020-07-23</td>\n",
       "      <td>returned to senate</td>\n",
       "      <td>True</td>\n",
       "      <td>Aug 03, 2020</td>\n",
       "      <td>False</td>\n",
       "      <td>no date</td>\n",
       "      <td>BILL NUMBER: S8835\\n\\nSPONSOR: SEPULVEDA\\n \\nT...</td>\n",
       "      <td>relates to COVID-19; and removes the care of a...</td>\n",
       "      <td>S8835 (ACTIVE) - Bill Text\\n          \\ndownlo...</td>\n",
       "      <td>1 days</td>\n",
       "    </tr>\n",
       "    <tr>\n",
       "      <th>9103</th>\n",
       "      <td>senate        Bill S9114</td>\n",
       "      <td>2019</td>\n",
       "      <td>https://www.nysenate.gov/legislation/bills/201...</td>\n",
       "      <td>Relates to eviction and foreclosure protections</td>\n",
       "      <td>Brian Kavanagh</td>\n",
       "      <td>(D) 26th Senate District</td>\n",
       "      <td>40</td>\n",
       "      <td>21</td>\n",
       "      <td>True</td>\n",
       "      <td>2020-12-28</td>\n",
       "      <td>...</td>\n",
       "      <td>2020-12-24</td>\n",
       "      <td>referred to housing, construction and communit...</td>\n",
       "      <td>True</td>\n",
       "      <td>Dec 28, 2020</td>\n",
       "      <td>False</td>\n",
       "      <td>no date</td>\n",
       "      <td>BILL NUMBER: S9114\\n\\nSPONSOR: KAVANAGH\\n \\nTI...</td>\n",
       "      <td>To prevent the eviction of residential tenants...</td>\n",
       "      <td>S9114 (ACTIVE) - Bill Text\\n          \\ndownlo...</td>\n",
       "      <td>4 days</td>\n",
       "    </tr>\n",
       "  </tbody>\n",
       "</table>\n",
       "<p>6400 rows × 21 columns</p>\n",
       "</div>"
      ],
      "text/plain": [
       "                   bill_number  session  \\\n",
       "58     senate        Bill S79A     2011   \n",
       "128   senate        Bill S149B     2011   \n",
       "154    senate        Bill S175     2011   \n",
       "156   senate        Bill S177A     2011   \n",
       "184    senate        Bill S205     2011   \n",
       "...                        ...      ...   \n",
       "8820  senate        Bill S8831     2019   \n",
       "8821  senate        Bill S8832     2019   \n",
       "8823  senate        Bill S8834     2019   \n",
       "8824  senate        Bill S8835     2019   \n",
       "9103  senate        Bill S9114     2019   \n",
       "\n",
       "                                                    url  \\\n",
       "58    https://www.nysenate.gov/legislation/bills/201...   \n",
       "128   https://www.nysenate.gov/legislation/bills/201...   \n",
       "154   https://www.nysenate.gov/legislation/bills/201...   \n",
       "156   https://www.nysenate.gov/legislation/bills/201...   \n",
       "184   https://www.nysenate.gov/legislation/bills/201...   \n",
       "...                                                 ...   \n",
       "8820  https://www.nysenate.gov/legislation/bills/201...   \n",
       "8821  https://www.nysenate.gov/legislation/bills/201...   \n",
       "8823  https://www.nysenate.gov/legislation/bills/201...   \n",
       "8824  https://www.nysenate.gov/legislation/bills/201...   \n",
       "9103  https://www.nysenate.gov/legislation/bills/201...   \n",
       "\n",
       "                                             bill_title  \\\n",
       "58    Authorizes the incorporation of benefit corpor...   \n",
       "128   Relates to tax credits provided for solar ener...   \n",
       "154   Prohibits state officers and employees from us...   \n",
       "156   Reduces the required minimum age for obtaining...   \n",
       "184   Authorizes a county, city, town or village to ...   \n",
       "...                                                 ...   \n",
       "8820  Requires judges who recuse themselves to provi...   \n",
       "8821  Relates to the use of an electronic signature ...   \n",
       "8823  Authorizes former foster care youth to re-ente...   \n",
       "8824  Relates to amending provisions regarding healt...   \n",
       "9103    Relates to eviction and foreclosure protections   \n",
       "\n",
       "              spon_sen_name                  dist_name aye_vote nay_vote  \\\n",
       "58       Daniel L. Squadron  (D, WF) 0 Senate District       62        0   \n",
       "128       George D. Maziarz      (R) 0 Senate District       60        0   \n",
       "154       George D. Maziarz      (R) 0 Senate District       62        0   \n",
       "156       George D. Maziarz      (R) 0 Senate District       53        7   \n",
       "184       George D. Maziarz      (R) 0 Senate District       55        0   \n",
       "...                     ...                        ...      ...      ...   \n",
       "8820          Todd Kaminsky    (D) 9th Senate District       43       17   \n",
       "8821            John C. Liu   (D) 11th Senate District       57        3   \n",
       "8823  Velmanette Montgomery      (D) 0 Senate District       60        0   \n",
       "8824      Luis R. Sepúlveda   (D) 32nd Senate District       45       15   \n",
       "9103         Brian Kavanagh   (D) 26th Senate District       40       21   \n",
       "\n",
       "       dtg   dtg_date  ...   lla_date  \\\n",
       "58    True 2011-11-30  ... 2011-06-17   \n",
       "128   True 2012-08-06  ... 2012-06-20   \n",
       "154   True 2011-09-12  ... 2011-06-21   \n",
       "156   True 2011-05-06  ... 2011-05-03   \n",
       "184   True 2011-04-15  ... 2011-04-06   \n",
       "...    ...        ...  ...        ...   \n",
       "8820  True 2020-12-11  ... 2020-07-23   \n",
       "8821  True 2020-08-12  ... 2020-07-23   \n",
       "8823  True 2020-12-03  ... 2020-07-23   \n",
       "8824  True 2020-07-24  ... 2020-07-23   \n",
       "9103  True 2020-12-28  ... 2020-12-24   \n",
       "\n",
       "                                             lla_action signed_by_gov  \\\n",
       "58                                   returned to senate          True   \n",
       "128                                returned to assembly          True   \n",
       "154                                returned to assembly          True   \n",
       "156                                  returned to senate          True   \n",
       "184                                returned to assembly          True   \n",
       "...                                                 ...           ...   \n",
       "8820                                 returned to senate          True   \n",
       "8821                                 returned to senate          True   \n",
       "8823                                 returned to senate          True   \n",
       "8824                                 returned to senate          True   \n",
       "9103  referred to housing, construction and communit...          True   \n",
       "\n",
       "       signed_date vetoed_by_gov  vetoed_date  \\\n",
       "58    Dec 12, 2011         False      no date   \n",
       "128   Aug 17, 2012         False      no date   \n",
       "154   Sep 23, 2011         False      no date   \n",
       "156   May 17, 2011         False      no date   \n",
       "184   Apr 27, 2011         False      no date   \n",
       "...            ...           ...          ...   \n",
       "8820  Dec 23, 2020         False      no date   \n",
       "8821  Aug 24, 2020         False      no date   \n",
       "8823  Dec 15, 2020         False      no date   \n",
       "8824  Aug 03, 2020         False      no date   \n",
       "9103  Dec 28, 2020         False      no date   \n",
       "\n",
       "                                           sponser_memo  \\\n",
       "58    BILL NUMBER:S79\\n\\nTITLE OF BILL:\\nAn act\\nto ...   \n",
       "128   BILL NUMBER:S149\\n\\nTITLE OF BILL:\\nAn act\\nto...   \n",
       "154   BILL NUMBER:S175\\n\\nTITLE OF BILL:\\nAn act\\nto...   \n",
       "156   BILL NUMBER:S177\\n\\nTITLE OF BILL:  An act to ...   \n",
       "184   BILL NUMBER:S205\\n\\nTITLE OF BILL:\\nAn act\\nto...   \n",
       "...                                                 ...   \n",
       "8820  BILL NUMBER: S8831\\n\\nSPONSOR: KAMINSKY\\n \\nTI...   \n",
       "8821  BILL NUMBER: S8832\\n\\nSPONSOR: LIU\\n \\nTITLE O...   \n",
       "8823  BILL NUMBER: S8834\\n\\nSPONSOR: MONTGOMERY\\n \\n...   \n",
       "8824  BILL NUMBER: S8835\\n\\nSPONSOR: SEPULVEDA\\n \\nT...   \n",
       "9103  BILL NUMBER: S9114\\n\\nSPONSOR: KAVANAGH\\n \\nTI...   \n",
       "\n",
       "                                          sponser_memo2  \\\n",
       "58    Section 2 of the bill amends the New York Corp...   \n",
       "128   feasible for the individual to lease the equip...   \n",
       "154   JUSTIFICATION:\\nWhile during working hours, it...   \n",
       "156                                                 NaN   \n",
       "184   directed to be made and completed on or before...   \n",
       "...                                                 ...   \n",
       "8820  JUSTIFICATION:\\n\\nJudicial recusal is an impor...   \n",
       "8821  However, tax preparers filing a NYS tax return...   \n",
       "8823  social services department would be required t...   \n",
       "8824  relates to COVID-19; and removes the care of a...   \n",
       "9103  To prevent the eviction of residential tenants...   \n",
       "\n",
       "                                              bill_text time_to_dtg  \n",
       "58    S79 - Bill Text\\n          \\ndownload pdf\\n\\n\\...    166 days  \n",
       "128   S149 - Bill Text\\n          \\ndownload pdf\\n\\n...     47 days  \n",
       "154   S175 (ACTIVE) - Bill Text\\n          \\ndownloa...     83 days  \n",
       "156   S177 - Bill Text\\n          \\ndownload pdf\\n\\n...      3 days  \n",
       "184   S205 (ACTIVE) - Bill Text\\n          \\ndownloa...      9 days  \n",
       "...                                                 ...         ...  \n",
       "8820  S8831 (ACTIVE) - Bill Text\\n          \\ndownlo...    141 days  \n",
       "8821  S8832 (ACTIVE) - Bill Text\\n          \\ndownlo...     20 days  \n",
       "8823  S8834 (ACTIVE) - Bill Text\\n          \\ndownlo...    133 days  \n",
       "8824  S8835 (ACTIVE) - Bill Text\\n          \\ndownlo...      1 days  \n",
       "9103  S9114 (ACTIVE) - Bill Text\\n          \\ndownlo...      4 days  \n",
       "\n",
       "[6400 rows x 21 columns]"
      ]
     },
     "execution_count": 47,
     "metadata": {},
     "output_type": "execute_result"
    }
   ],
   "source": [
    "df_dtg[df_dtg.url.str.contains('amendment') == False]"
   ]
  },
  {
   "cell_type": "code",
   "execution_count": null,
   "metadata": {},
   "outputs": [],
   "source": []
  },
  {
   "cell_type": "markdown",
   "metadata": {},
   "source": [
    "# Veto proof bills that were vetoed\n",
    "## First numbers by session years. Then vote analysis"
   ]
  },
  {
   "cell_type": "markdown",
   "metadata": {},
   "source": [
    "Total number of vetoes"
   ]
  },
  {
   "cell_type": "code",
   "execution_count": 48,
   "metadata": {},
   "outputs": [
    {
     "data": {
      "text/plain": [
       "(933, 21)"
      ]
     },
     "execution_count": 48,
     "metadata": {},
     "output_type": "execute_result"
    }
   ],
   "source": [
    "df_dtg[df_dtg.vetoed_by_gov == True].shape"
   ]
  },
  {
   "cell_type": "markdown",
   "metadata": {},
   "source": [
    "2011 Session vetos (2011 and 2012)"
   ]
  },
  {
   "cell_type": "code",
   "execution_count": 49,
   "metadata": {},
   "outputs": [
    {
     "data": {
      "text/plain": [
       "(126, 21)"
      ]
     },
     "execution_count": 49,
     "metadata": {},
     "output_type": "execute_result"
    }
   ],
   "source": [
    "df_2011s_veto = df_dtg[df_dtg.session == 2011]\n",
    "df_2011s_veto[df_2011s_veto.vetoed_by_gov == True].shape"
   ]
  },
  {
   "cell_type": "markdown",
   "metadata": {},
   "source": [
    "2013 Session vetos (2013 and 2014)"
   ]
  },
  {
   "cell_type": "code",
   "execution_count": 50,
   "metadata": {},
   "outputs": [
    {
     "data": {
      "text/plain": [
       "(184, 21)"
      ]
     },
     "execution_count": 50,
     "metadata": {},
     "output_type": "execute_result"
    }
   ],
   "source": [
    "df_2013s_veto = df_dtg[df_dtg.session == 2013]\n",
    "df_2013s_veto[df_2013s_veto.vetoed_by_gov == True].shape"
   ]
  },
  {
   "cell_type": "markdown",
   "metadata": {},
   "source": [
    "2015 Session vetos (2015 and 2016)"
   ]
  },
  {
   "cell_type": "code",
   "execution_count": 51,
   "metadata": {},
   "outputs": [
    {
     "data": {
      "text/plain": [
       "(217, 21)"
      ]
     },
     "execution_count": 51,
     "metadata": {},
     "output_type": "execute_result"
    }
   ],
   "source": [
    "df_2015s_veto = df_dtg[df_dtg.session == 2015]\n",
    "df_2015s_veto[df_2015s_veto.vetoed_by_gov == True].shape"
   ]
  },
  {
   "cell_type": "markdown",
   "metadata": {},
   "source": [
    "2017 Session vetos (2017 and 2018)"
   ]
  },
  {
   "cell_type": "code",
   "execution_count": 52,
   "metadata": {},
   "outputs": [
    {
     "data": {
      "text/plain": [
       "(214, 21)"
      ]
     },
     "execution_count": 52,
     "metadata": {},
     "output_type": "execute_result"
    }
   ],
   "source": [
    "df_2017s_veto = df_dtg[df_dtg.session == 2017]\n",
    "df_2017s_veto[df_2017s_veto.vetoed_by_gov == True].shape"
   ]
  },
  {
   "cell_type": "markdown",
   "metadata": {},
   "source": [
    "2019 Session vetoes (2019 and 2020)"
   ]
  },
  {
   "cell_type": "code",
   "execution_count": 53,
   "metadata": {},
   "outputs": [
    {
     "data": {
      "text/plain": [
       "(192, 21)"
      ]
     },
     "execution_count": 53,
     "metadata": {},
     "output_type": "execute_result"
    }
   ],
   "source": [
    "df_2019s_veto = df_dtg[df_dtg.session == 2019]\n",
    "df_2019s_veto[df_2019s_veto.vetoed_by_gov == True].shape"
   ]
  },
  {
   "cell_type": "markdown",
   "metadata": {},
   "source": [
    "### Vote Analysis"
   ]
  },
  {
   "cell_type": "code",
   "execution_count": 54,
   "metadata": {},
   "outputs": [
    {
     "data": {
      "text/plain": [
       "Index(['bill_number', 'session', 'url', 'bill_title', 'spon_sen_name',\n",
       "       'dist_name', 'aye_vote', 'nay_vote', 'dtg', 'dtg_date', 'lla_needed?',\n",
       "       'lla_date', 'lla_action', 'signed_by_gov', 'signed_date',\n",
       "       'vetoed_by_gov', 'vetoed_date', 'sponser_memo', 'sponser_memo2',\n",
       "       'bill_text', 'time_to_dtg'],\n",
       "      dtype='object')"
      ]
     },
     "execution_count": 54,
     "metadata": {},
     "output_type": "execute_result"
    }
   ],
   "source": [
    "df_dtg.columns"
   ]
  },
  {
   "cell_type": "code",
   "execution_count": 55,
   "metadata": {},
   "outputs": [
    {
     "data": {
      "text/plain": [
       "62    260\n",
       "61    139\n",
       "60    118\n",
       "59     96\n",
       "63     84\n",
       "58     48\n",
       "57     46\n",
       "56     25\n",
       "55     16\n",
       "53     13\n",
       "54     10\n",
       "44      9\n",
       "43      8\n",
       "47      8\n",
       "52      8\n",
       "48      7\n",
       "51      5\n",
       "42      4\n",
       "45      4\n",
       "49      4\n",
       "46      3\n",
       "40      3\n",
       "20      3\n",
       "36      2\n",
       "50      2\n",
       "24      2\n",
       "38      1\n",
       "16      1\n",
       "19      1\n",
       "39      1\n",
       "37      1\n",
       "32      1\n",
       "Name: aye_vote, dtype: int64"
      ]
     },
     "execution_count": 55,
     "metadata": {},
     "output_type": "execute_result"
    }
   ],
   "source": [
    "df_dtg_vetoed = df_dtg[df_dtg.vetoed_by_gov == True]\n",
    "df_dtg_vetoed.aye_vote.value_counts()\n",
    "\n",
    "## For the output below, as a reminder, the VOTE TOTALS are on the left.\n",
    "## The number of time they occur is on the right."
   ]
  },
  {
   "cell_type": "code",
   "execution_count": 56,
   "metadata": {},
   "outputs": [
    {
     "data": {
      "text/plain": [
       "(933, 21)"
      ]
     },
     "execution_count": 56,
     "metadata": {},
     "output_type": "execute_result"
    }
   ],
   "source": [
    "df_dtg_vetoed.shape"
   ]
  },
  {
   "cell_type": "code",
   "execution_count": 57,
   "metadata": {},
   "outputs": [
    {
     "data": {
      "text/plain": [
       "(917, 21)"
      ]
     },
     "execution_count": 57,
     "metadata": {},
     "output_type": "execute_result"
    }
   ],
   "source": [
    "## The senate can override a veto if it has more than 2/3 votes in favor of it. This next step\n",
    "## deduce how many bills are potentially veto proof based on how the first floor vote went.\n",
    "\n",
    "df_dtg_vetoed_potential_override = df_dtg_vetoed[df_dtg_vetoed.aye_vote.astype(int) > 41]\n",
    "df_dtg_vetoed_potential_override.shape"
   ]
  },
  {
   "cell_type": "code",
   "execution_count": 58,
   "metadata": {},
   "outputs": [
    {
     "data": {
      "text/plain": [
       "62    260\n",
       "61    139\n",
       "60    118\n",
       "59     96\n",
       "63     84\n",
       "58     48\n",
       "57     46\n",
       "56     25\n",
       "55     16\n",
       "53     13\n",
       "54     10\n",
       "44      9\n",
       "43      8\n",
       "47      8\n",
       "52      8\n",
       "48      7\n",
       "51      5\n",
       "42      4\n",
       "45      4\n",
       "49      4\n",
       "46      3\n",
       "50      2\n",
       "Name: aye_vote, dtype: int64"
      ]
     },
     "execution_count": 58,
     "metadata": {},
     "output_type": "execute_result"
    }
   ],
   "source": [
    "df_dtg_vetoed_potential_override.aye_vote.value_counts()"
   ]
  },
  {
   "cell_type": "code",
   "execution_count": 59,
   "metadata": {},
   "outputs": [],
   "source": [
    "pd.set_option('display.max_colwidth', None)"
   ]
  },
  {
   "cell_type": "code",
   "execution_count": 60,
   "metadata": {},
   "outputs": [
    {
     "name": "stdout",
     "output_type": "stream",
     "text": [
      "226      https://www.nysenate.gov/legislation/bills/2011/s247\n",
      "275      https://www.nysenate.gov/legislation/bills/2011/s296\n",
      "351      https://www.nysenate.gov/legislation/bills/2011/s372\n",
      "431      https://www.nysenate.gov/legislation/bills/2011/s452\n",
      "490      https://www.nysenate.gov/legislation/bills/2011/s511\n",
      "                                ...                          \n",
      "8108    https://www.nysenate.gov/legislation/bills/2019/s8119\n",
      "8519    https://www.nysenate.gov/legislation/bills/2019/s8530\n",
      "8641    https://www.nysenate.gov/legislation/bills/2019/s8652\n",
      "8708    https://www.nysenate.gov/legislation/bills/2019/s8719\n",
      "8713    https://www.nysenate.gov/legislation/bills/2019/s8724\n",
      "Name: url, Length: 917, dtype: object\n",
      "226      https://www.nysenate.gov/legislation/bills/2011/s247\n",
      "275      https://www.nysenate.gov/legislation/bills/2011/s296\n",
      "351      https://www.nysenate.gov/legislation/bills/2011/s372\n",
      "431      https://www.nysenate.gov/legislation/bills/2011/s452\n",
      "490      https://www.nysenate.gov/legislation/bills/2011/s511\n",
      "                                ...                          \n",
      "8108    https://www.nysenate.gov/legislation/bills/2019/s8119\n",
      "8519    https://www.nysenate.gov/legislation/bills/2019/s8530\n",
      "8641    https://www.nysenate.gov/legislation/bills/2019/s8652\n",
      "8708    https://www.nysenate.gov/legislation/bills/2019/s8719\n",
      "8713    https://www.nysenate.gov/legislation/bills/2019/s8724\n",
      "Name: url, Length: 917, dtype: object\n",
      "226      https://www.nysenate.gov/legislation/bills/2011/s247\n",
      "275      https://www.nysenate.gov/legislation/bills/2011/s296\n",
      "351      https://www.nysenate.gov/legislation/bills/2011/s372\n",
      "431      https://www.nysenate.gov/legislation/bills/2011/s452\n",
      "490      https://www.nysenate.gov/legislation/bills/2011/s511\n",
      "                                ...                          \n",
      "8108    https://www.nysenate.gov/legislation/bills/2019/s8119\n",
      "8519    https://www.nysenate.gov/legislation/bills/2019/s8530\n",
      "8641    https://www.nysenate.gov/legislation/bills/2019/s8652\n",
      "8708    https://www.nysenate.gov/legislation/bills/2019/s8719\n",
      "8713    https://www.nysenate.gov/legislation/bills/2019/s8724\n",
      "Name: url, Length: 917, dtype: object\n",
      "226      https://www.nysenate.gov/legislation/bills/2011/s247\n",
      "275      https://www.nysenate.gov/legislation/bills/2011/s296\n",
      "351      https://www.nysenate.gov/legislation/bills/2011/s372\n",
      "431      https://www.nysenate.gov/legislation/bills/2011/s452\n",
      "490      https://www.nysenate.gov/legislation/bills/2011/s511\n",
      "                                ...                          \n",
      "8108    https://www.nysenate.gov/legislation/bills/2019/s8119\n",
      "8519    https://www.nysenate.gov/legislation/bills/2019/s8530\n",
      "8641    https://www.nysenate.gov/legislation/bills/2019/s8652\n",
      "8708    https://www.nysenate.gov/legislation/bills/2019/s8719\n",
      "8713    https://www.nysenate.gov/legislation/bills/2019/s8724\n",
      "Name: url, Length: 917, dtype: object\n",
      "226      https://www.nysenate.gov/legislation/bills/2011/s247\n",
      "275      https://www.nysenate.gov/legislation/bills/2011/s296\n",
      "351      https://www.nysenate.gov/legislation/bills/2011/s372\n",
      "431      https://www.nysenate.gov/legislation/bills/2011/s452\n",
      "490      https://www.nysenate.gov/legislation/bills/2011/s511\n",
      "                                ...                          \n",
      "8108    https://www.nysenate.gov/legislation/bills/2019/s8119\n",
      "8519    https://www.nysenate.gov/legislation/bills/2019/s8530\n",
      "8641    https://www.nysenate.gov/legislation/bills/2019/s8652\n",
      "8708    https://www.nysenate.gov/legislation/bills/2019/s8719\n",
      "8713    https://www.nysenate.gov/legislation/bills/2019/s8724\n",
      "Name: url, Length: 917, dtype: object\n",
      "226      https://www.nysenate.gov/legislation/bills/2011/s247\n",
      "275      https://www.nysenate.gov/legislation/bills/2011/s296\n",
      "351      https://www.nysenate.gov/legislation/bills/2011/s372\n",
      "431      https://www.nysenate.gov/legislation/bills/2011/s452\n",
      "490      https://www.nysenate.gov/legislation/bills/2011/s511\n",
      "                                ...                          \n",
      "8108    https://www.nysenate.gov/legislation/bills/2019/s8119\n",
      "8519    https://www.nysenate.gov/legislation/bills/2019/s8530\n",
      "8641    https://www.nysenate.gov/legislation/bills/2019/s8652\n",
      "8708    https://www.nysenate.gov/legislation/bills/2019/s8719\n",
      "8713    https://www.nysenate.gov/legislation/bills/2019/s8724\n",
      "Name: url, Length: 917, dtype: object\n",
      "226      https://www.nysenate.gov/legislation/bills/2011/s247\n",
      "275      https://www.nysenate.gov/legislation/bills/2011/s296\n",
      "351      https://www.nysenate.gov/legislation/bills/2011/s372\n",
      "431      https://www.nysenate.gov/legislation/bills/2011/s452\n",
      "490      https://www.nysenate.gov/legislation/bills/2011/s511\n",
      "                                ...                          \n",
      "8108    https://www.nysenate.gov/legislation/bills/2019/s8119\n",
      "8519    https://www.nysenate.gov/legislation/bills/2019/s8530\n",
      "8641    https://www.nysenate.gov/legislation/bills/2019/s8652\n",
      "8708    https://www.nysenate.gov/legislation/bills/2019/s8719\n",
      "8713    https://www.nysenate.gov/legislation/bills/2019/s8724\n",
      "Name: url, Length: 917, dtype: object\n",
      "226      https://www.nysenate.gov/legislation/bills/2011/s247\n",
      "275      https://www.nysenate.gov/legislation/bills/2011/s296\n",
      "351      https://www.nysenate.gov/legislation/bills/2011/s372\n",
      "431      https://www.nysenate.gov/legislation/bills/2011/s452\n",
      "490      https://www.nysenate.gov/legislation/bills/2011/s511\n",
      "                                ...                          \n",
      "8108    https://www.nysenate.gov/legislation/bills/2019/s8119\n",
      "8519    https://www.nysenate.gov/legislation/bills/2019/s8530\n",
      "8641    https://www.nysenate.gov/legislation/bills/2019/s8652\n",
      "8708    https://www.nysenate.gov/legislation/bills/2019/s8719\n",
      "8713    https://www.nysenate.gov/legislation/bills/2019/s8724\n",
      "Name: url, Length: 917, dtype: object\n",
      "226      https://www.nysenate.gov/legislation/bills/2011/s247\n",
      "275      https://www.nysenate.gov/legislation/bills/2011/s296\n",
      "351      https://www.nysenate.gov/legislation/bills/2011/s372\n",
      "431      https://www.nysenate.gov/legislation/bills/2011/s452\n",
      "490      https://www.nysenate.gov/legislation/bills/2011/s511\n",
      "                                ...                          \n",
      "8108    https://www.nysenate.gov/legislation/bills/2019/s8119\n",
      "8519    https://www.nysenate.gov/legislation/bills/2019/s8530\n",
      "8641    https://www.nysenate.gov/legislation/bills/2019/s8652\n",
      "8708    https://www.nysenate.gov/legislation/bills/2019/s8719\n",
      "8713    https://www.nysenate.gov/legislation/bills/2019/s8724\n",
      "Name: url, Length: 917, dtype: object\n",
      "226      https://www.nysenate.gov/legislation/bills/2011/s247\n",
      "275      https://www.nysenate.gov/legislation/bills/2011/s296\n",
      "351      https://www.nysenate.gov/legislation/bills/2011/s372\n",
      "431      https://www.nysenate.gov/legislation/bills/2011/s452\n",
      "490      https://www.nysenate.gov/legislation/bills/2011/s511\n",
      "                                ...                          \n",
      "8108    https://www.nysenate.gov/legislation/bills/2019/s8119\n",
      "8519    https://www.nysenate.gov/legislation/bills/2019/s8530\n",
      "8641    https://www.nysenate.gov/legislation/bills/2019/s8652\n",
      "8708    https://www.nysenate.gov/legislation/bills/2019/s8719\n",
      "8713    https://www.nysenate.gov/legislation/bills/2019/s8724\n",
      "Name: url, Length: 917, dtype: object\n",
      "226      https://www.nysenate.gov/legislation/bills/2011/s247\n",
      "275      https://www.nysenate.gov/legislation/bills/2011/s296\n",
      "351      https://www.nysenate.gov/legislation/bills/2011/s372\n",
      "431      https://www.nysenate.gov/legislation/bills/2011/s452\n",
      "490      https://www.nysenate.gov/legislation/bills/2011/s511\n",
      "                                ...                          \n",
      "8108    https://www.nysenate.gov/legislation/bills/2019/s8119\n",
      "8519    https://www.nysenate.gov/legislation/bills/2019/s8530\n",
      "8641    https://www.nysenate.gov/legislation/bills/2019/s8652\n",
      "8708    https://www.nysenate.gov/legislation/bills/2019/s8719\n",
      "8713    https://www.nysenate.gov/legislation/bills/2019/s8724\n",
      "Name: url, Length: 917, dtype: object\n",
      "226      https://www.nysenate.gov/legislation/bills/2011/s247\n",
      "275      https://www.nysenate.gov/legislation/bills/2011/s296\n",
      "351      https://www.nysenate.gov/legislation/bills/2011/s372\n",
      "431      https://www.nysenate.gov/legislation/bills/2011/s452\n",
      "490      https://www.nysenate.gov/legislation/bills/2011/s511\n",
      "                                ...                          \n",
      "8108    https://www.nysenate.gov/legislation/bills/2019/s8119\n",
      "8519    https://www.nysenate.gov/legislation/bills/2019/s8530\n",
      "8641    https://www.nysenate.gov/legislation/bills/2019/s8652\n",
      "8708    https://www.nysenate.gov/legislation/bills/2019/s8719\n",
      "8713    https://www.nysenate.gov/legislation/bills/2019/s8724\n",
      "Name: url, Length: 917, dtype: object\n",
      "226      https://www.nysenate.gov/legislation/bills/2011/s247\n",
      "275      https://www.nysenate.gov/legislation/bills/2011/s296\n",
      "351      https://www.nysenate.gov/legislation/bills/2011/s372\n",
      "431      https://www.nysenate.gov/legislation/bills/2011/s452\n",
      "490      https://www.nysenate.gov/legislation/bills/2011/s511\n",
      "                                ...                          \n",
      "8108    https://www.nysenate.gov/legislation/bills/2019/s8119\n",
      "8519    https://www.nysenate.gov/legislation/bills/2019/s8530\n",
      "8641    https://www.nysenate.gov/legislation/bills/2019/s8652\n",
      "8708    https://www.nysenate.gov/legislation/bills/2019/s8719\n",
      "8713    https://www.nysenate.gov/legislation/bills/2019/s8724\n",
      "Name: url, Length: 917, dtype: object\n",
      "226      https://www.nysenate.gov/legislation/bills/2011/s247\n",
      "275      https://www.nysenate.gov/legislation/bills/2011/s296\n",
      "351      https://www.nysenate.gov/legislation/bills/2011/s372\n",
      "431      https://www.nysenate.gov/legislation/bills/2011/s452\n",
      "490      https://www.nysenate.gov/legislation/bills/2011/s511\n",
      "                                ...                          \n",
      "8108    https://www.nysenate.gov/legislation/bills/2019/s8119\n",
      "8519    https://www.nysenate.gov/legislation/bills/2019/s8530\n",
      "8641    https://www.nysenate.gov/legislation/bills/2019/s8652\n",
      "8708    https://www.nysenate.gov/legislation/bills/2019/s8719\n",
      "8713    https://www.nysenate.gov/legislation/bills/2019/s8724\n",
      "Name: url, Length: 917, dtype: object\n",
      "226      https://www.nysenate.gov/legislation/bills/2011/s247\n",
      "275      https://www.nysenate.gov/legislation/bills/2011/s296\n",
      "351      https://www.nysenate.gov/legislation/bills/2011/s372\n",
      "431      https://www.nysenate.gov/legislation/bills/2011/s452\n",
      "490      https://www.nysenate.gov/legislation/bills/2011/s511\n",
      "                                ...                          \n",
      "8108    https://www.nysenate.gov/legislation/bills/2019/s8119\n",
      "8519    https://www.nysenate.gov/legislation/bills/2019/s8530\n",
      "8641    https://www.nysenate.gov/legislation/bills/2019/s8652\n",
      "8708    https://www.nysenate.gov/legislation/bills/2019/s8719\n",
      "8713    https://www.nysenate.gov/legislation/bills/2019/s8724\n",
      "Name: url, Length: 917, dtype: object\n",
      "226      https://www.nysenate.gov/legislation/bills/2011/s247\n",
      "275      https://www.nysenate.gov/legislation/bills/2011/s296\n",
      "351      https://www.nysenate.gov/legislation/bills/2011/s372\n",
      "431      https://www.nysenate.gov/legislation/bills/2011/s452\n",
      "490      https://www.nysenate.gov/legislation/bills/2011/s511\n",
      "                                ...                          \n",
      "8108    https://www.nysenate.gov/legislation/bills/2019/s8119\n",
      "8519    https://www.nysenate.gov/legislation/bills/2019/s8530\n",
      "8641    https://www.nysenate.gov/legislation/bills/2019/s8652\n",
      "8708    https://www.nysenate.gov/legislation/bills/2019/s8719\n",
      "8713    https://www.nysenate.gov/legislation/bills/2019/s8724\n",
      "Name: url, Length: 917, dtype: object\n",
      "226      https://www.nysenate.gov/legislation/bills/2011/s247\n",
      "275      https://www.nysenate.gov/legislation/bills/2011/s296\n",
      "351      https://www.nysenate.gov/legislation/bills/2011/s372\n",
      "431      https://www.nysenate.gov/legislation/bills/2011/s452\n",
      "490      https://www.nysenate.gov/legislation/bills/2011/s511\n",
      "                                ...                          \n",
      "8108    https://www.nysenate.gov/legislation/bills/2019/s8119\n",
      "8519    https://www.nysenate.gov/legislation/bills/2019/s8530\n",
      "8641    https://www.nysenate.gov/legislation/bills/2019/s8652\n",
      "8708    https://www.nysenate.gov/legislation/bills/2019/s8719\n",
      "8713    https://www.nysenate.gov/legislation/bills/2019/s8724\n",
      "Name: url, Length: 917, dtype: object\n",
      "226      https://www.nysenate.gov/legislation/bills/2011/s247\n",
      "275      https://www.nysenate.gov/legislation/bills/2011/s296\n",
      "351      https://www.nysenate.gov/legislation/bills/2011/s372\n",
      "431      https://www.nysenate.gov/legislation/bills/2011/s452\n",
      "490      https://www.nysenate.gov/legislation/bills/2011/s511\n",
      "                                ...                          \n",
      "8108    https://www.nysenate.gov/legislation/bills/2019/s8119\n",
      "8519    https://www.nysenate.gov/legislation/bills/2019/s8530\n",
      "8641    https://www.nysenate.gov/legislation/bills/2019/s8652\n",
      "8708    https://www.nysenate.gov/legislation/bills/2019/s8719\n",
      "8713    https://www.nysenate.gov/legislation/bills/2019/s8724\n",
      "Name: url, Length: 917, dtype: object\n",
      "226      https://www.nysenate.gov/legislation/bills/2011/s247\n",
      "275      https://www.nysenate.gov/legislation/bills/2011/s296\n",
      "351      https://www.nysenate.gov/legislation/bills/2011/s372\n",
      "431      https://www.nysenate.gov/legislation/bills/2011/s452\n",
      "490      https://www.nysenate.gov/legislation/bills/2011/s511\n",
      "                                ...                          \n",
      "8108    https://www.nysenate.gov/legislation/bills/2019/s8119\n",
      "8519    https://www.nysenate.gov/legislation/bills/2019/s8530\n",
      "8641    https://www.nysenate.gov/legislation/bills/2019/s8652\n",
      "8708    https://www.nysenate.gov/legislation/bills/2019/s8719\n",
      "8713    https://www.nysenate.gov/legislation/bills/2019/s8724\n",
      "Name: url, Length: 917, dtype: object\n",
      "226      https://www.nysenate.gov/legislation/bills/2011/s247\n",
      "275      https://www.nysenate.gov/legislation/bills/2011/s296\n",
      "351      https://www.nysenate.gov/legislation/bills/2011/s372\n",
      "431      https://www.nysenate.gov/legislation/bills/2011/s452\n",
      "490      https://www.nysenate.gov/legislation/bills/2011/s511\n",
      "                                ...                          \n",
      "8108    https://www.nysenate.gov/legislation/bills/2019/s8119\n",
      "8519    https://www.nysenate.gov/legislation/bills/2019/s8530\n",
      "8641    https://www.nysenate.gov/legislation/bills/2019/s8652\n",
      "8708    https://www.nysenate.gov/legislation/bills/2019/s8719\n",
      "8713    https://www.nysenate.gov/legislation/bills/2019/s8724\n",
      "Name: url, Length: 917, dtype: object\n",
      "226      https://www.nysenate.gov/legislation/bills/2011/s247\n",
      "275      https://www.nysenate.gov/legislation/bills/2011/s296\n",
      "351      https://www.nysenate.gov/legislation/bills/2011/s372\n",
      "431      https://www.nysenate.gov/legislation/bills/2011/s452\n",
      "490      https://www.nysenate.gov/legislation/bills/2011/s511\n",
      "                                ...                          \n",
      "8108    https://www.nysenate.gov/legislation/bills/2019/s8119\n",
      "8519    https://www.nysenate.gov/legislation/bills/2019/s8530\n",
      "8641    https://www.nysenate.gov/legislation/bills/2019/s8652\n",
      "8708    https://www.nysenate.gov/legislation/bills/2019/s8719\n",
      "8713    https://www.nysenate.gov/legislation/bills/2019/s8724\n",
      "Name: url, Length: 917, dtype: object\n"
     ]
    }
   ],
   "source": [
    "df_dtg_vetoed_potential_override\n",
    "for x in df_dtg_vetoed_potential_override:\n",
    "    print(df_dtg_vetoed_potential_override.url.astype(str))"
   ]
  },
  {
   "cell_type": "code",
   "execution_count": 69,
   "metadata": {},
   "outputs": [],
   "source": [
    "pd.set_option('display.max_colwidth',50)"
   ]
  },
  {
   "cell_type": "code",
   "execution_count": 68,
   "metadata": {},
   "outputs": [],
   "source": [
    "## 226 -- 139 yea/0 nay\n",
    "## 275 -- 142 yes/2 nay\n",
    "## 2019/S8119C -- 142 yes/2 nay -- COVID Bill\n",
    "## 2019/S8652A -- 142 yes/0 nay"
   ]
  },
  {
   "cell_type": "markdown",
   "metadata": {},
   "source": [
    "## DTG Month analysis\n",
    "\n",
    "My conversation with Gerald Benjamin suggested that I should analyze during what months bills were sent to the governor. Perhaps then I can use those categories to see if there's any content classification. This section below spits out 12 CSV files for my dataframes"
   ]
  },
  {
   "cell_type": "code",
   "execution_count": 62,
   "metadata": {},
   "outputs": [
    {
     "data": {
      "text/plain": [
       "Index(['bill_number', 'session', 'url', 'bill_title', 'spon_sen_name',\n",
       "       'dist_name', 'aye_vote', 'nay_vote', 'dtg', 'dtg_date', 'lla_needed?',\n",
       "       'lla_date', 'lla_action', 'signed_by_gov', 'signed_date',\n",
       "       'vetoed_by_gov', 'vetoed_date', 'sponser_memo', 'sponser_memo2',\n",
       "       'bill_text', 'time_to_dtg'],\n",
       "      dtype='object')"
      ]
     },
     "execution_count": 62,
     "metadata": {},
     "output_type": "execute_result"
    }
   ],
   "source": [
    "df_dtg.columns"
   ]
  },
  {
   "cell_type": "code",
   "execution_count": 64,
   "metadata": {},
   "outputs": [],
   "source": [
    "df_dtg['month'] = df_dtg['dtg_date'].dt.month"
   ]
  },
  {
   "cell_type": "code",
   "execution_count": 65,
   "metadata": {},
   "outputs": [
    {
     "data": {
      "text/plain": [
       "7     1294\n",
       "8      990\n",
       "11     958\n",
       "12     946\n",
       "9      741\n",
       "10     538\n",
       "6      360\n",
       "4      208\n",
       "5      149\n",
       "3      127\n",
       "1       50\n",
       "2       39\n",
       "Name: month, dtype: int64"
      ]
     },
     "execution_count": 65,
     "metadata": {},
     "output_type": "execute_result"
    }
   ],
   "source": [
    "df_dtg.month.value_counts()"
   ]
  },
  {
   "cell_type": "code",
   "execution_count": 66,
   "metadata": {},
   "outputs": [],
   "source": [
    "df_dtg_jan = df_dtg[df_dtg.month == 1]\n",
    "df_dtg_feb = df_dtg[df_dtg.month == 2]\n",
    "df_dtg_mar = df_dtg[df_dtg.month == 3]\n",
    "df_dtg_apr = df_dtg[df_dtg.month == 4]\n",
    "df_dtg_may = df_dtg[df_dtg.month == 5]\n",
    "df_dtg_jun = df_dtg[df_dtg.month == 6]\n",
    "df_dtg_jul = df_dtg[df_dtg.month == 7]\n",
    "df_dtg_aug = df_dtg[df_dtg.month == 8]\n",
    "df_dtg_sep = df_dtg[df_dtg.month == 9]\n",
    "df_dtg_oct = df_dtg[df_dtg.month == 10]\n",
    "df_dtg_nov = df_dtg[df_dtg.month == 11]\n",
    "df_dtg_dec = df_dtg[df_dtg.month == 12]"
   ]
  },
  {
   "cell_type": "code",
   "execution_count": 67,
   "metadata": {},
   "outputs": [],
   "source": [
    "df_dtg_jan.to_csv(\"all_legis_data_4.12.2021_jan_dtg.csv\", sep=\"|\")\n",
    "df_dtg_feb.to_csv(\"all_legis_data_4.12.2021_feb_dtg.csv\", sep=\"|\")\n",
    "df_dtg_mar.to_csv(\"all_legis_data_4.12.2021_mar_dtg.csv\", sep=\"|\")\n",
    "df_dtg_apr.to_csv(\"all_legis_data_4.12.2021_apr_dtg.csv\", sep=\"|\")\n",
    "df_dtg_may.to_csv(\"all_legis_data_4.12.2021_may_dtg.csv\", sep=\"|\")\n",
    "df_dtg_jun.to_csv(\"all_legis_data_4.12.2021_jun_dtg.csv\", sep=\"|\")\n",
    "df_dtg_jul.to_csv(\"all_legis_data_4.12.2021_jul_dtg.csv\", sep=\"|\")\n",
    "df_dtg_aug.to_csv(\"all_legis_data_4.12.2021_aug_dtg.csv\", sep=\"|\")\n",
    "df_dtg_sep.to_csv(\"all_legis_data_4.12.2021_sep_dtg.csv\", sep=\"|\")\n",
    "df_dtg_oct.to_csv(\"all_legis_data_4.12.2021_oct_dtg.csv\", sep=\"|\")\n",
    "df_dtg_nov.to_csv(\"all_legis_data_4.12.2021_nov_dtg.csv\", sep=\"|\")\n",
    "df_dtg_dec.to_csv(\"all_legis_data_4.12.2021_dec_dtg.csv\", sep=\"|\")"
   ]
  },
  {
   "cell_type": "code",
   "execution_count": null,
   "metadata": {},
   "outputs": [],
   "source": []
  },
  {
   "cell_type": "code",
   "execution_count": null,
   "metadata": {},
   "outputs": [],
   "source": []
  }
 ],
 "metadata": {
  "kernelspec": {
   "display_name": "Python 3",
   "language": "python",
   "name": "python3"
  },
  "language_info": {
   "codemirror_mode": {
    "name": "ipython",
    "version": 3
   },
   "file_extension": ".py",
   "mimetype": "text/x-python",
   "name": "python",
   "nbconvert_exporter": "python",
   "pygments_lexer": "ipython3",
   "version": "3.8.6"
  }
 },
 "nbformat": 4,
 "nbformat_minor": 4
}
